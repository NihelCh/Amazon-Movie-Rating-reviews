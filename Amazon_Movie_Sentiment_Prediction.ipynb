{
 "cells": [
  {
   "cell_type": "code",
   "execution_count": 2,
   "metadata": {},
   "outputs": [],
   "source": [
    "import itertools\n",
    "import string\n",
    "import numpy as np\n",
    "import pandas as pd\n",
    "import matplotlib.pyplot as plt\n",
    "import pylab as pl\n",
    "import nltk\n",
    "from collections import Counter\n",
    "from sklearn.svm import LinearSVC\n",
    "from sklearn.linear_model import LogisticRegression\n",
    "from sklearn.feature_extraction.text import CountVectorizer\n",
    "from sklearn.naive_bayes import MultinomialNB\n",
    "from sklearn.model_selection import train_test_split, cross_val_score\n",
    "from sklearn.model_selection import GridSearchCV\n",
    "from sklearn.metrics import accuracy_score, confusion_matrix, classification_report\n",
    "from nltk import word_tokenize\n",
    "from nltk.corpus import stopwords\n",
    "from nltk.stem.wordnet import WordNetLemmatizer\n",
    "\n",
    "%matplotlib inline"
   ]
  },
  {
   "cell_type": "code",
   "execution_count": 3,
   "metadata": {},
   "outputs": [
    {
     "data": {
      "text/html": [
       "<div>\n",
       "<style scoped>\n",
       "    .dataframe tbody tr th:only-of-type {\n",
       "        vertical-align: middle;\n",
       "    }\n",
       "\n",
       "    .dataframe tbody tr th {\n",
       "        vertical-align: top;\n",
       "    }\n",
       "\n",
       "    .dataframe thead th {\n",
       "        text-align: right;\n",
       "    }\n",
       "</style>\n",
       "<table border=\"1\" class=\"dataframe\">\n",
       "  <thead>\n",
       "    <tr style=\"text-align: right;\">\n",
       "      <th></th>\n",
       "      <th>productId</th>\n",
       "      <th>userId</th>\n",
       "      <th>profileName</th>\n",
       "      <th>helpfulness</th>\n",
       "      <th>score</th>\n",
       "      <th>time</th>\n",
       "      <th>summary</th>\n",
       "      <th>text</th>\n",
       "    </tr>\n",
       "  </thead>\n",
       "  <tbody>\n",
       "    <tr>\n",
       "      <th>0</th>\n",
       "      <td>B003AI2VGA</td>\n",
       "      <td>A141HP4LYPWMSR</td>\n",
       "      <td>Brian E. Erland  Rainbow Sphinx</td>\n",
       "      <td>7-Jul</td>\n",
       "      <td>3.0</td>\n",
       "      <td>1182729600</td>\n",
       "      <td>There Is So Much Darkness Now ~ Come For The M...</td>\n",
       "      <td>Synopsis On the daily trek from Juarez Mexico ...</td>\n",
       "    </tr>\n",
       "    <tr>\n",
       "      <th>1</th>\n",
       "      <td>B003AI2VGA</td>\n",
       "      <td>A328S9RN3U5M68</td>\n",
       "      <td>Grady Harp</td>\n",
       "      <td>7/8</td>\n",
       "      <td>3.0</td>\n",
       "      <td>1181952000</td>\n",
       "      <td>Worthwhile and Important Story Hampered by Poo...</td>\n",
       "      <td>THE VIRGIN OF JUAREZ is based on true events s...</td>\n",
       "    </tr>\n",
       "    <tr>\n",
       "      <th>2</th>\n",
       "      <td>B003AI2VGA</td>\n",
       "      <td>A1I7QGUDP043DG</td>\n",
       "      <td>Chrissy K. McVay  Writer</td>\n",
       "      <td>7/9</td>\n",
       "      <td>5.0</td>\n",
       "      <td>1164844800</td>\n",
       "      <td>This movie needed to be made.</td>\n",
       "      <td>The scenes in this film can be very disquietin...</td>\n",
       "    </tr>\n",
       "    <tr>\n",
       "      <th>3</th>\n",
       "      <td>B003AI2VGA</td>\n",
       "      <td>A1M5405JH9THP9</td>\n",
       "      <td>golgotha.gov</td>\n",
       "      <td>7/10</td>\n",
       "      <td>3.0</td>\n",
       "      <td>1197158400</td>\n",
       "      <td>distantly based on a real tragedy</td>\n",
       "      <td>THE VIRGIN OF JUAREZ (2006)&lt;br /&gt;directed by K...</td>\n",
       "    </tr>\n",
       "    <tr>\n",
       "      <th>4</th>\n",
       "      <td>B003AI2VGA</td>\n",
       "      <td>ATXL536YX71TR</td>\n",
       "      <td>KerrLines  &amp;#34;MoviesMusicTheatre&amp;#34;</td>\n",
       "      <td>7/11</td>\n",
       "      <td>3.0</td>\n",
       "      <td>1188345600</td>\n",
       "      <td>What's going on down in Juarez and shining a l...</td>\n",
       "      <td>Informationally this SHOWTIME original is esse...</td>\n",
       "    </tr>\n",
       "  </tbody>\n",
       "</table>\n",
       "</div>"
      ],
      "text/plain": [
       "    productId          userId                              profileName  \\\n",
       "0  B003AI2VGA  A141HP4LYPWMSR          Brian E. Erland  Rainbow Sphinx   \n",
       "1  B003AI2VGA  A328S9RN3U5M68                               Grady Harp   \n",
       "2  B003AI2VGA  A1I7QGUDP043DG                 Chrissy K. McVay  Writer   \n",
       "3  B003AI2VGA  A1M5405JH9THP9                             golgotha.gov   \n",
       "4  B003AI2VGA   ATXL536YX71TR  KerrLines  &#34;MoviesMusicTheatre&#34;   \n",
       "\n",
       "  helpfulness  score        time  \\\n",
       "0       7-Jul    3.0  1182729600   \n",
       "1         7/8    3.0  1181952000   \n",
       "2         7/9    5.0  1164844800   \n",
       "3        7/10    3.0  1197158400   \n",
       "4        7/11    3.0  1188345600   \n",
       "\n",
       "                                             summary  \\\n",
       "0  There Is So Much Darkness Now ~ Come For The M...   \n",
       "1  Worthwhile and Important Story Hampered by Poo...   \n",
       "2                      This movie needed to be made.   \n",
       "3                  distantly based on a real tragedy   \n",
       "4  What's going on down in Juarez and shining a l...   \n",
       "\n",
       "                                                text  \n",
       "0  Synopsis On the daily trek from Juarez Mexico ...  \n",
       "1  THE VIRGIN OF JUAREZ is based on true events s...  \n",
       "2  The scenes in this film can be very disquietin...  \n",
       "3  THE VIRGIN OF JUAREZ (2006)<br />directed by K...  \n",
       "4  Informationally this SHOWTIME original is esse...  "
      ]
     },
     "execution_count": 3,
     "metadata": {},
     "output_type": "execute_result"
    }
   ],
   "source": [
    "#importing the dataset\n",
    "amazon = pd.read_csv('AmazonDataChunk1.csv', encoding = \"ISO-8859-1\")\n",
    "amazon.head()"
   ]
  },
  {
   "cell_type": "code",
   "execution_count": 4,
   "metadata": {},
   "outputs": [
    {
     "data": {
      "text/html": [
       "<div>\n",
       "<style scoped>\n",
       "    .dataframe tbody tr th:only-of-type {\n",
       "        vertical-align: middle;\n",
       "    }\n",
       "\n",
       "    .dataframe tbody tr th {\n",
       "        vertical-align: top;\n",
       "    }\n",
       "\n",
       "    .dataframe thead th {\n",
       "        text-align: right;\n",
       "    }\n",
       "</style>\n",
       "<table border=\"1\" class=\"dataframe\">\n",
       "  <thead>\n",
       "    <tr style=\"text-align: right;\">\n",
       "      <th></th>\n",
       "      <th>productId</th>\n",
       "      <th>userId</th>\n",
       "      <th>profileName</th>\n",
       "      <th>helpfulness</th>\n",
       "      <th>score</th>\n",
       "      <th>time</th>\n",
       "      <th>summary</th>\n",
       "      <th>text</th>\n",
       "    </tr>\n",
       "  </thead>\n",
       "  <tbody>\n",
       "    <tr>\n",
       "      <th>249995</th>\n",
       "      <td>B001FFBI82</td>\n",
       "      <td>A3T0WOOIYXUXHD</td>\n",
       "      <td>Greg Lovitz</td>\n",
       "      <td>0/1</td>\n",
       "      <td>4.0</td>\n",
       "      <td>1150156800</td>\n",
       "      <td>Very Good and Decent !</td>\n",
       "      <td>Jarhead is isn't the best picture of  2005  an...</td>\n",
       "    </tr>\n",
       "    <tr>\n",
       "      <th>249996</th>\n",
       "      <td>B001FFBI82</td>\n",
       "      <td>A1Q15TP2FXYYMF</td>\n",
       "      <td>www.steveo2006.co.uk  Steveo</td>\n",
       "      <td>0/1</td>\n",
       "      <td>5.0</td>\n",
       "      <td>1149811200</td>\n",
       "      <td>Possible Classic &amp; Underrated</td>\n",
       "      <td>This highly underrated film will come to defin...</td>\n",
       "    </tr>\n",
       "    <tr>\n",
       "      <th>249997</th>\n",
       "      <td>B001FFBI82</td>\n",
       "      <td>A1F6989VCEFK3Y</td>\n",
       "      <td>amaris2004</td>\n",
       "      <td>0/1</td>\n",
       "      <td>4.0</td>\n",
       "      <td>1142294400</td>\n",
       "      <td>deep movie...</td>\n",
       "      <td>i really enjoyed this movie. im not one to wat...</td>\n",
       "    </tr>\n",
       "    <tr>\n",
       "      <th>249998</th>\n",
       "      <td>B001FFBI82</td>\n",
       "      <td>A3UPYGJKZ0XTU4</td>\n",
       "      <td>mirasreviews</td>\n",
       "      <td>8/14</td>\n",
       "      <td>4.0</td>\n",
       "      <td>1143244800</td>\n",
       "      <td>A Marine in Operation Desert Storm Chronic Ted...</td>\n",
       "      <td>Jarhead  is based on Anthony Swofford's memoir...</td>\n",
       "    </tr>\n",
       "    <tr>\n",
       "      <th>249999</th>\n",
       "      <td>B001FFBI82</td>\n",
       "      <td>A1ZYV05OSO4QZK</td>\n",
       "      <td>Zulu Warrior  71RoadRunner</td>\n",
       "      <td>3/6</td>\n",
       "      <td>3.0</td>\n",
       "      <td>1144713600</td>\n",
       "      <td>Flawed but useful</td>\n",
       "      <td>1) Why does Kayne West song appear which was p...</td>\n",
       "    </tr>\n",
       "  </tbody>\n",
       "</table>\n",
       "</div>"
      ],
      "text/plain": [
       "         productId          userId                   profileName helpfulness  \\\n",
       "249995  B001FFBI82  A3T0WOOIYXUXHD                   Greg Lovitz         0/1   \n",
       "249996  B001FFBI82  A1Q15TP2FXYYMF  www.steveo2006.co.uk  Steveo         0/1   \n",
       "249997  B001FFBI82  A1F6989VCEFK3Y                    amaris2004         0/1   \n",
       "249998  B001FFBI82  A3UPYGJKZ0XTU4                  mirasreviews        8/14   \n",
       "249999  B001FFBI82  A1ZYV05OSO4QZK    Zulu Warrior  71RoadRunner         3/6   \n",
       "\n",
       "        score        time                                            summary  \\\n",
       "249995    4.0  1150156800                             Very Good and Decent !   \n",
       "249996    5.0  1149811200                      Possible Classic & Underrated   \n",
       "249997    4.0  1142294400                                      deep movie...   \n",
       "249998    4.0  1143244800  A Marine in Operation Desert Storm Chronic Ted...   \n",
       "249999    3.0  1144713600                                  Flawed but useful   \n",
       "\n",
       "                                                     text  \n",
       "249995  Jarhead is isn't the best picture of  2005  an...  \n",
       "249996  This highly underrated film will come to defin...  \n",
       "249997  i really enjoyed this movie. im not one to wat...  \n",
       "249998  Jarhead  is based on Anthony Swofford's memoir...  \n",
       "249999  1) Why does Kayne West song appear which was p...  "
      ]
     },
     "execution_count": 4,
     "metadata": {},
     "output_type": "execute_result"
    }
   ],
   "source": [
    "amazon.tail()"
   ]
  },
  {
   "cell_type": "code",
   "execution_count": 5,
   "metadata": {},
   "outputs": [
    {
     "data": {
      "text/plain": [
       "productId        0\n",
       "userId           0\n",
       "profileName      7\n",
       "helpfulness      2\n",
       "score            2\n",
       "time             0\n",
       "summary          1\n",
       "text           122\n",
       "dtype: int64"
      ]
     },
     "execution_count": 5,
     "metadata": {},
     "output_type": "execute_result"
    }
   ],
   "source": [
    "#check missing values\n",
    "amazon.isnull().sum()"
   ]
  },
  {
   "cell_type": "code",
   "execution_count": 6,
   "metadata": {},
   "outputs": [],
   "source": [
    "# Remove null values\n",
    "amazon = amazon.dropna()\n",
    "amazon = amazon.reset_index(drop=True)"
   ]
  },
  {
   "cell_type": "code",
   "execution_count": 7,
   "metadata": {},
   "outputs": [
    {
     "data": {
      "text/plain": [
       "productId      0\n",
       "userId         0\n",
       "profileName    0\n",
       "helpfulness    0\n",
       "score          0\n",
       "time           0\n",
       "summary        0\n",
       "text           0\n",
       "dtype: int64"
      ]
     },
     "execution_count": 7,
     "metadata": {},
     "output_type": "execute_result"
    }
   ],
   "source": [
    "#Recheck missing values\n",
    "amazon.isnull().sum()"
   ]
  },
  {
   "cell_type": "code",
   "execution_count": 8,
   "metadata": {},
   "outputs": [
    {
     "data": {
      "text/html": [
       "<div>\n",
       "<style scoped>\n",
       "    .dataframe tbody tr th:only-of-type {\n",
       "        vertical-align: middle;\n",
       "    }\n",
       "\n",
       "    .dataframe tbody tr th {\n",
       "        vertical-align: top;\n",
       "    }\n",
       "\n",
       "    .dataframe thead th {\n",
       "        text-align: right;\n",
       "    }\n",
       "</style>\n",
       "<table border=\"1\" class=\"dataframe\">\n",
       "  <thead>\n",
       "    <tr style=\"text-align: right;\">\n",
       "      <th></th>\n",
       "      <th>productId</th>\n",
       "      <th>userId</th>\n",
       "      <th>profileName</th>\n",
       "      <th>helpfulness</th>\n",
       "      <th>score</th>\n",
       "      <th>time</th>\n",
       "      <th>summary</th>\n",
       "      <th>text</th>\n",
       "    </tr>\n",
       "  </thead>\n",
       "  <tbody>\n",
       "    <tr>\n",
       "      <th>249863</th>\n",
       "      <td>B001FFBI82</td>\n",
       "      <td>A3T0WOOIYXUXHD</td>\n",
       "      <td>Greg Lovitz</td>\n",
       "      <td>0/1</td>\n",
       "      <td>4.0</td>\n",
       "      <td>1150156800</td>\n",
       "      <td>Very Good and Decent !</td>\n",
       "      <td>Jarhead is isn't the best picture of  2005  an...</td>\n",
       "    </tr>\n",
       "    <tr>\n",
       "      <th>249864</th>\n",
       "      <td>B001FFBI82</td>\n",
       "      <td>A1Q15TP2FXYYMF</td>\n",
       "      <td>www.steveo2006.co.uk  Steveo</td>\n",
       "      <td>0/1</td>\n",
       "      <td>5.0</td>\n",
       "      <td>1149811200</td>\n",
       "      <td>Possible Classic &amp; Underrated</td>\n",
       "      <td>This highly underrated film will come to defin...</td>\n",
       "    </tr>\n",
       "    <tr>\n",
       "      <th>249865</th>\n",
       "      <td>B001FFBI82</td>\n",
       "      <td>A1F6989VCEFK3Y</td>\n",
       "      <td>amaris2004</td>\n",
       "      <td>0/1</td>\n",
       "      <td>4.0</td>\n",
       "      <td>1142294400</td>\n",
       "      <td>deep movie...</td>\n",
       "      <td>i really enjoyed this movie. im not one to wat...</td>\n",
       "    </tr>\n",
       "    <tr>\n",
       "      <th>249866</th>\n",
       "      <td>B001FFBI82</td>\n",
       "      <td>A3UPYGJKZ0XTU4</td>\n",
       "      <td>mirasreviews</td>\n",
       "      <td>8/14</td>\n",
       "      <td>4.0</td>\n",
       "      <td>1143244800</td>\n",
       "      <td>A Marine in Operation Desert Storm Chronic Ted...</td>\n",
       "      <td>Jarhead  is based on Anthony Swofford's memoir...</td>\n",
       "    </tr>\n",
       "    <tr>\n",
       "      <th>249867</th>\n",
       "      <td>B001FFBI82</td>\n",
       "      <td>A1ZYV05OSO4QZK</td>\n",
       "      <td>Zulu Warrior  71RoadRunner</td>\n",
       "      <td>3/6</td>\n",
       "      <td>3.0</td>\n",
       "      <td>1144713600</td>\n",
       "      <td>Flawed but useful</td>\n",
       "      <td>1) Why does Kayne West song appear which was p...</td>\n",
       "    </tr>\n",
       "  </tbody>\n",
       "</table>\n",
       "</div>"
      ],
      "text/plain": [
       "         productId          userId                   profileName helpfulness  \\\n",
       "249863  B001FFBI82  A3T0WOOIYXUXHD                   Greg Lovitz         0/1   \n",
       "249864  B001FFBI82  A1Q15TP2FXYYMF  www.steveo2006.co.uk  Steveo         0/1   \n",
       "249865  B001FFBI82  A1F6989VCEFK3Y                    amaris2004         0/1   \n",
       "249866  B001FFBI82  A3UPYGJKZ0XTU4                  mirasreviews        8/14   \n",
       "249867  B001FFBI82  A1ZYV05OSO4QZK    Zulu Warrior  71RoadRunner         3/6   \n",
       "\n",
       "        score        time                                            summary  \\\n",
       "249863    4.0  1150156800                             Very Good and Decent !   \n",
       "249864    5.0  1149811200                      Possible Classic & Underrated   \n",
       "249865    4.0  1142294400                                      deep movie...   \n",
       "249866    4.0  1143244800  A Marine in Operation Desert Storm Chronic Ted...   \n",
       "249867    3.0  1144713600                                  Flawed but useful   \n",
       "\n",
       "                                                     text  \n",
       "249863  Jarhead is isn't the best picture of  2005  an...  \n",
       "249864  This highly underrated film will come to defin...  \n",
       "249865  i really enjoyed this movie. im not one to wat...  \n",
       "249866  Jarhead  is based on Anthony Swofford's memoir...  \n",
       "249867  1) Why does Kayne West song appear which was p...  "
      ]
     },
     "execution_count": 8,
     "metadata": {},
     "output_type": "execute_result"
    }
   ],
   "source": [
    "amazon.tail()"
   ]
  },
  {
   "cell_type": "code",
   "execution_count": 9,
   "metadata": {},
   "outputs": [
    {
     "name": "stdout",
     "output_type": "stream",
     "text": [
      "Dataset size: 249,868 words\n"
     ]
    }
   ],
   "source": [
    "print('Dataset size: {:,} words'.format(len(amazon)))"
   ]
  },
  {
   "cell_type": "code",
   "execution_count": 10,
   "metadata": {},
   "outputs": [
    {
     "name": "stdout",
     "output_type": "stream",
     "text": [
      "Number of Unique Products in amazon reviews = 7684\n"
     ]
    }
   ],
   "source": [
    "#Number of Reviews by Unique Products [productId]\n",
    "movies = amazon['score'].groupby(amazon['productId']).count()\n",
    "print(\"Number of Unique Products in amazon reviews = {}\".format(movies.count()))"
   ]
  },
  {
   "cell_type": "code",
   "execution_count": 11,
   "metadata": {},
   "outputs": [
    {
     "data": {
      "text/plain": [
       "Text(0.5,1,'Top 5 Reviewed Movies')"
      ]
     },
     "execution_count": 11,
     "metadata": {},
     "output_type": "execute_result"
    },
    {
     "data": {
      "image/png": "[encoded data removed]",
      "text/plain": [
       "<matplotlib.figure.Figure at 0x28aabe337b8>"
      ]
     },
     "metadata": {},
     "output_type": "display_data"
    }
   ],
   "source": [
    "import seaborn as sns\n",
    "top_movies=amazon.groupby(by=['productId'],as_index=False).count().sort_values(by='score',ascending=False).head()\n",
    "\n",
    "plt.figure(figsize=(10,10))\n",
    "sns.set_style(\"whitegrid\")\n",
    "ax = sns.barplot(x=top_movies['productId'],y=top_movies['score'])\n",
    "plt.xlabel(\"Movie Id\")\n",
    "plt.ylabel(\"Count\")\n",
    "plt.title(\"Top 5 Reviewed Movies\")"
   ]
  },
  {
   "cell_type": "code",
   "execution_count": 12,
   "metadata": {},
   "outputs": [
    {
     "data": {
      "text/plain": [
       "Text(0.5,1,'Worst 5 Reviewed Movies')"
      ]
     },
     "execution_count": 12,
     "metadata": {},
     "output_type": "execute_result"
    },
    {
     "data": {
      "image/png": "[encoded data removed]",
      "text/plain": [
       "<matplotlib.figure.Figure at 0x28ac82b1dd8>"
      ]
     },
     "metadata": {},
     "output_type": "display_data"
    }
   ],
   "source": [
    "import seaborn as sns\n",
    "worst_movies=amazon.groupby(by=['productId'],as_index=False).count().sort_values(by='score',ascending=True).head()\n",
    "\n",
    "plt.figure(figsize=(10,10))\n",
    "sns.set_style(\"whitegrid\")\n",
    "ax = sns.barplot(x=worst_movies['productId'],y=worst_movies['score'])\n",
    "plt.xlabel(\"Movie Id\")\n",
    "plt.ylabel(\"Count\")\n",
    "plt.title(\"Worst 5 Reviewed Movies\")"
   ]
  },
  {
   "cell_type": "code",
   "execution_count": 13,
   "metadata": {},
   "outputs": [
    {
     "data": {
      "text/plain": [
       "0     Synopsis On the daily trek from Juarez Mexico ...\n",
       "1     THE VIRGIN OF JUAREZ is based on true events s...\n",
       "2     The scenes in this film can be very disquietin...\n",
       "3     THE VIRGIN OF JUAREZ (2006)<br />directed by K...\n",
       "4     Informationally this SHOWTIME original is esse...\n",
       "5     The murders in Juarez are real. This movie is ...\n",
       "6     Mexican men are macho rapists gangsters or ine...\n",
       "7     Over the past few years public television has ...\n",
       "8     I recvd this video (DVD version) as a Christma...\n",
       "9     Wow! When I saw this show on PBS--that was it ...\n",
       "10    I have the Doo Wop 50 and 51 DVDs and was anxi...\n",
       "Name: text, dtype: object"
      ]
     },
     "execution_count": 13,
     "metadata": {},
     "output_type": "execute_result"
    }
   ],
   "source": [
    "#Preprocessing:\n",
    "#Remove punctuations, stopwords, and lemmatize\n",
    "amazon['text'][:11]"
   ]
  },
  {
   "cell_type": "code",
   "execution_count": 20,
   "metadata": {},
   "outputs": [],
   "source": [
    "reviews = amazon['text']"
   ]
  },
  {
   "cell_type": "code",
   "execution_count": 21,
   "metadata": {},
   "outputs": [
    {
     "data": {
      "text/plain": [
       "249868"
      ]
     },
     "execution_count": 21,
     "metadata": {},
     "output_type": "execute_result"
    }
   ],
   "source": [
    "reviews.count()"
   ]
  },
  {
   "cell_type": "code",
   "execution_count": 22,
   "metadata": {},
   "outputs": [],
   "source": [
    "stops = stopwords.words('english')"
   ]
  },
  {
   "cell_type": "code",
   "execution_count": 23,
   "metadata": {},
   "outputs": [],
   "source": [
    "def tokenize(text):\n",
    "    tokenized = word_tokenize(text)\n",
    "    no_punc = []\n",
    "    for review in tokenized:\n",
    "        line = \"\".join(char for char in review if char not in string.punctuation)\n",
    "        no_punc.append(line)\n",
    "    tokens = lemmatize(no_punc)\n",
    "    return tokens\n",
    "\n",
    "\n",
    "def lemmatize(tokens):\n",
    "    lmtzr = WordNetLemmatizer()\n",
    "    lemma = [lmtzr.lemmatize(t) for t in tokens]\n",
    "    return lemma"
   ]
  },
  {
   "cell_type": "code",
   "execution_count": 24,
   "metadata": {},
   "outputs": [],
   "source": [
    "reviews = reviews.apply(lambda x: tokenize(x))"
   ]
  },
  {
   "cell_type": "code",
   "execution_count": 25,
   "metadata": {},
   "outputs": [
    {
     "data": {
      "text/plain": [
       "0     [Synopsis, On, the, daily, trek, from, Juarez,...\n",
       "1     [THE, VIRGIN, OF, JUAREZ, is, based, on, true,...\n",
       "2     [The, scene, in, this, film, can, be, very, di...\n",
       "3     [THE, VIRGIN, OF, JUAREZ, , 2006, , , br, , , ...\n",
       "4     [Informationally, this, SHOWTIME, original, is...\n",
       "5     [The, murder, in, Juarez, are, real, , This, m...\n",
       "6     [Mexican, men, are, macho, rapist, gangster, o...\n",
       "7     [Over, the, past, few, year, public, televisio...\n",
       "8     [I, recvd, this, video, , DVD, version, , a, a...\n",
       "9     [Wow, , When, I, saw, this, show, on, PBS, , t...\n",
       "10    [I, have, the, Doo, Wop, 50, and, 51, DVDs, an...\n",
       "Name: text, dtype: object"
      ]
     },
     "execution_count": 25,
     "metadata": {},
     "output_type": "execute_result"
    }
   ],
   "source": [
    "reviews[:11]"
   ]
  },
  {
   "cell_type": "code",
   "execution_count": 26,
   "metadata": {},
   "outputs": [
    {
     "name": "stdout",
     "output_type": "stream",
     "text": [
      "<class 'pandas.core.frame.DataFrame'>\n",
      "RangeIndex: 249868 entries, 0 to 249867\n",
      "Data columns (total 8 columns):\n",
      "productId      249868 non-null object\n",
      "userId         249868 non-null object\n",
      "profileName    249868 non-null object\n",
      "helpfulness    249868 non-null object\n",
      "score          249868 non-null float64\n",
      "time           249868 non-null int64\n",
      "summary        249868 non-null object\n",
      "text           249868 non-null object\n",
      "dtypes: float64(1), int64(1), object(6)\n",
      "memory usage: 15.3+ MB\n"
     ]
    }
   ],
   "source": [
    "amazon.info()"
   ]
  },
  {
   "cell_type": "code",
   "execution_count": 27,
   "metadata": {},
   "outputs": [],
   "source": [
    "#function to clean the column text in the data set\n",
    "import re\n",
    "def review_to_words(raw_review): \n",
    "    review =raw_review\n",
    "    review = re.sub('[^a-zA-Z]', ' ',review)\n",
    "    review = review.lower()\n",
    "    review = review.split()\n",
    "    lemmatizer = WordNetLemmatizer()\n",
    "    review = [lemmatizer.lemmatize(w) for w in review if not w in set(stopwords.words('english'))]\n",
    "    return (' '.join(review))"
   ]
  },
  {
   "cell_type": "code",
   "execution_count": 28,
   "metadata": {},
   "outputs": [],
   "source": [
    "# check if the function works, let’s pass in some random text and see if it gets processed correctly.\n",
    "sample_text = \"Hey there! This is a sample review, which happens to contain punctuations.\""
   ]
  },
  {
   "cell_type": "code",
   "execution_count": 29,
   "metadata": {},
   "outputs": [
    {
     "name": "stdout",
     "output_type": "stream",
     "text": [
      "hey sample review happens contain punctuation\n"
     ]
    }
   ],
   "source": [
    "print(review_to_words(sample_text))"
   ]
  },
  {
   "cell_type": "code",
   "execution_count": 30,
   "metadata": {},
   "outputs": [],
   "source": [
    "#run the function in amazon data set\n",
    "corpus= []\n",
    "for i in range(0, 249868):\n",
    "    corpus.append(review_to_words(amazon['text'][i]))"
   ]
  },
  {
   "cell_type": "code",
   "execution_count": 31,
   "metadata": {},
   "outputs": [],
   "source": [
    "#create new column and merge it with the new cleaning list\n",
    "amazon['TextReview']=corpus"
   ]
  },
  {
   "cell_type": "code",
   "execution_count": 32,
   "metadata": {},
   "outputs": [],
   "source": [
    "#drop the old column\n",
    "amazon.drop(['text'],axis=1,inplace=True)"
   ]
  },
  {
   "cell_type": "code",
   "execution_count": 33,
   "metadata": {},
   "outputs": [
    {
     "data": {
      "text/html": [
       "<div>\n",
       "<style scoped>\n",
       "    .dataframe tbody tr th:only-of-type {\n",
       "        vertical-align: middle;\n",
       "    }\n",
       "\n",
       "    .dataframe tbody tr th {\n",
       "        vertical-align: top;\n",
       "    }\n",
       "\n",
       "    .dataframe thead th {\n",
       "        text-align: right;\n",
       "    }\n",
       "</style>\n",
       "<table border=\"1\" class=\"dataframe\">\n",
       "  <thead>\n",
       "    <tr style=\"text-align: right;\">\n",
       "      <th></th>\n",
       "      <th>productId</th>\n",
       "      <th>userId</th>\n",
       "      <th>profileName</th>\n",
       "      <th>helpfulness</th>\n",
       "      <th>score</th>\n",
       "      <th>time</th>\n",
       "      <th>summary</th>\n",
       "      <th>TextReview</th>\n",
       "    </tr>\n",
       "  </thead>\n",
       "  <tbody>\n",
       "    <tr>\n",
       "      <th>0</th>\n",
       "      <td>B003AI2VGA</td>\n",
       "      <td>A141HP4LYPWMSR</td>\n",
       "      <td>Brian E. Erland  Rainbow Sphinx</td>\n",
       "      <td>7-Jul</td>\n",
       "      <td>3.0</td>\n",
       "      <td>1182729600</td>\n",
       "      <td>There Is So Much Darkness Now ~ Come For The M...</td>\n",
       "      <td>synopsis daily trek juarez mexico el paso texa...</td>\n",
       "    </tr>\n",
       "    <tr>\n",
       "      <th>1</th>\n",
       "      <td>B003AI2VGA</td>\n",
       "      <td>A328S9RN3U5M68</td>\n",
       "      <td>Grady Harp</td>\n",
       "      <td>7/8</td>\n",
       "      <td>3.0</td>\n",
       "      <td>1181952000</td>\n",
       "      <td>Worthwhile and Important Story Hampered by Poo...</td>\n",
       "      <td>virgin juarez based true event surrounding cri...</td>\n",
       "    </tr>\n",
       "    <tr>\n",
       "      <th>2</th>\n",
       "      <td>B003AI2VGA</td>\n",
       "      <td>A1I7QGUDP043DG</td>\n",
       "      <td>Chrissy K. McVay  Writer</td>\n",
       "      <td>7/9</td>\n",
       "      <td>5.0</td>\n",
       "      <td>1164844800</td>\n",
       "      <td>This movie needed to be made.</td>\n",
       "      <td>scene film disquieting due graphic enactment r...</td>\n",
       "    </tr>\n",
       "    <tr>\n",
       "      <th>3</th>\n",
       "      <td>B003AI2VGA</td>\n",
       "      <td>A1M5405JH9THP9</td>\n",
       "      <td>golgotha.gov</td>\n",
       "      <td>7/10</td>\n",
       "      <td>3.0</td>\n",
       "      <td>1197158400</td>\n",
       "      <td>distantly based on a real tragedy</td>\n",
       "      <td>virgin juarez br directed kevin james dobson b...</td>\n",
       "    </tr>\n",
       "    <tr>\n",
       "      <th>4</th>\n",
       "      <td>B003AI2VGA</td>\n",
       "      <td>ATXL536YX71TR</td>\n",
       "      <td>KerrLines  &amp;#34;MoviesMusicTheatre&amp;#34;</td>\n",
       "      <td>7/11</td>\n",
       "      <td>3.0</td>\n",
       "      <td>1188345600</td>\n",
       "      <td>What's going on down in Juarez and shining a l...</td>\n",
       "      <td>informationally showtime original essential vi...</td>\n",
       "    </tr>\n",
       "    <tr>\n",
       "      <th>5</th>\n",
       "      <td>B003AI2VGA</td>\n",
       "      <td>A3QYDL5CDNYN66</td>\n",
       "      <td>abra  a devoted reader</td>\n",
       "      <td>7/12</td>\n",
       "      <td>2.0</td>\n",
       "      <td>1229040000</td>\n",
       "      <td>Pretty pointless fictionalization</td>\n",
       "      <td>murder juarez real movie badly acted fantasy r...</td>\n",
       "    </tr>\n",
       "    <tr>\n",
       "      <th>6</th>\n",
       "      <td>B003AI2VGA</td>\n",
       "      <td>AQJVNDW6YZFQS</td>\n",
       "      <td>Charles R. Williams</td>\n",
       "      <td>7/13</td>\n",
       "      <td>1.0</td>\n",
       "      <td>1164153600</td>\n",
       "      <td>This is junk stay away</td>\n",
       "      <td>mexican men macho rapist gangster ineffective ...</td>\n",
       "    </tr>\n",
       "    <tr>\n",
       "      <th>7</th>\n",
       "      <td>B00006HAXW</td>\n",
       "      <td>AD4CDZK7D31XP</td>\n",
       "      <td>Anthony Accordino</td>\n",
       "      <td>7/14</td>\n",
       "      <td>5.0</td>\n",
       "      <td>1060473600</td>\n",
       "      <td>A  Rock N Roll History Lesson</td>\n",
       "      <td>past year public television put series vintage...</td>\n",
       "    </tr>\n",
       "    <tr>\n",
       "      <th>8</th>\n",
       "      <td>B00006HAXW</td>\n",
       "      <td>A3Q4S5DFVPB70D</td>\n",
       "      <td>Joseph P. Aiello</td>\n",
       "      <td>7/15</td>\n",
       "      <td>5.0</td>\n",
       "      <td>1041292800</td>\n",
       "      <td>A  MUST-HAVE  video if you grew up in the 50's...</td>\n",
       "      <td>recvd video dvd version christmas gift put pm ...</td>\n",
       "    </tr>\n",
       "    <tr>\n",
       "      <th>9</th>\n",
       "      <td>B00006HAXW</td>\n",
       "      <td>A2P7UB02HAVEPB</td>\n",
       "      <td>bruce_from_la</td>\n",
       "      <td>7/16</td>\n",
       "      <td>5.0</td>\n",
       "      <td>1061164800</td>\n",
       "      <td>If You Like DooWop You Gotta Have This DVD</td>\n",
       "      <td>wow saw show pb great tune seeing group terrif...</td>\n",
       "    </tr>\n",
       "    <tr>\n",
       "      <th>10</th>\n",
       "      <td>B00006HAXW</td>\n",
       "      <td>A2TX99AZKDK0V7</td>\n",
       "      <td>Henrique Peirano</td>\n",
       "      <td>7/17</td>\n",
       "      <td>4.0</td>\n",
       "      <td>1039564800</td>\n",
       "      <td>I expected more.</td>\n",
       "      <td>doo wop dvd anxiously waiting rock rhythm doo ...</td>\n",
       "    </tr>\n",
       "    <tr>\n",
       "      <th>11</th>\n",
       "      <td>B00006HAXW</td>\n",
       "      <td>AFC8IKR407HSK</td>\n",
       "      <td>Richard Albero</td>\n",
       "      <td>7/18</td>\n",
       "      <td>5.0</td>\n",
       "      <td>1045526400</td>\n",
       "      <td>Professional Excellence</td>\n",
       "      <td>worked television year tell one finest doo wop...</td>\n",
       "    </tr>\n",
       "    <tr>\n",
       "      <th>12</th>\n",
       "      <td>B00006HAXW</td>\n",
       "      <td>A1FRPGQYQTAOR1</td>\n",
       "      <td>Les</td>\n",
       "      <td>7/19</td>\n",
       "      <td>5.0</td>\n",
       "      <td>1062979200</td>\n",
       "      <td>Marvelous just Marvelous!</td>\n",
       "      <td>people reviewed dvd said great came across con...</td>\n",
       "    </tr>\n",
       "    <tr>\n",
       "      <th>13</th>\n",
       "      <td>B00006HAXW</td>\n",
       "      <td>A1RSDE90N6RSZF</td>\n",
       "      <td>Joseph M. Kotow</td>\n",
       "      <td>7/20</td>\n",
       "      <td>5.0</td>\n",
       "      <td>1042502400</td>\n",
       "      <td>Pittsburgh - Home of the OLDIES</td>\n",
       "      <td>doo wop dvd one good better st one remember pe...</td>\n",
       "    </tr>\n",
       "    <tr>\n",
       "      <th>14</th>\n",
       "      <td>B00006HAXW</td>\n",
       "      <td>A1OUBOGB5970AO</td>\n",
       "      <td>fellafromnyc</td>\n",
       "      <td>7/21</td>\n",
       "      <td>4.0</td>\n",
       "      <td>1049846400</td>\n",
       "      <td>They sang in the subway in halls..</td>\n",
       "      <td>performance little anthony imperial singing qu...</td>\n",
       "    </tr>\n",
       "    <tr>\n",
       "      <th>15</th>\n",
       "      <td>B00006HAXW</td>\n",
       "      <td>A3NPHQVIY59Y0Y</td>\n",
       "      <td>S. Dorman</td>\n",
       "      <td>7/22</td>\n",
       "      <td>5.0</td>\n",
       "      <td>1047945600</td>\n",
       "      <td>DOO WOP RECORDED HISTORY- A MUST HAVE ITEM</td>\n",
       "      <td>get also get dop wop doo wop performance like ...</td>\n",
       "    </tr>\n",
       "    <tr>\n",
       "      <th>16</th>\n",
       "      <td>B00006HAXW</td>\n",
       "      <td>AFKMBAY28XO8A</td>\n",
       "      <td>RFP</td>\n",
       "      <td>7/23</td>\n",
       "      <td>5.0</td>\n",
       "      <td>1038787200</td>\n",
       "      <td>ROCK RYTHM AND DOOWOP</td>\n",
       "      <td>excellent excellent performer excellent video ...</td>\n",
       "    </tr>\n",
       "    <tr>\n",
       "      <th>17</th>\n",
       "      <td>B00006HAXW</td>\n",
       "      <td>A66KMXH9V7OGU</td>\n",
       "      <td>C. Thomas</td>\n",
       "      <td>7/24</td>\n",
       "      <td>5.0</td>\n",
       "      <td>1177804800</td>\n",
       "      <td>Unbelievable Best Concert!</td>\n",
       "      <td>video awesome particular interest anyone grew ...</td>\n",
       "    </tr>\n",
       "    <tr>\n",
       "      <th>18</th>\n",
       "      <td>B00006HAXW</td>\n",
       "      <td>AFJ27ZV9183B8</td>\n",
       "      <td>Michael A. Martin</td>\n",
       "      <td>7/25</td>\n",
       "      <td>5.0</td>\n",
       "      <td>1200096000</td>\n",
       "      <td>Another outstanding performance and concert.</td>\n",
       "      <td>stated review doo wop doo wop show extremely o...</td>\n",
       "    </tr>\n",
       "    <tr>\n",
       "      <th>19</th>\n",
       "      <td>B00006HAXW</td>\n",
       "      <td>AXMKAXC0TR9AW</td>\n",
       "      <td>C. W. Emblom  Bill Emblom</td>\n",
       "      <td>7/26</td>\n",
       "      <td>5.0</td>\n",
       "      <td>1082592000</td>\n",
       "      <td>Outstanding Whether It Is Either On VHS Or DVD</td>\n",
       "      <td>vhs dvd version program second everything revi...</td>\n",
       "    </tr>\n",
       "    <tr>\n",
       "      <th>20</th>\n",
       "      <td>B00004CQT3</td>\n",
       "      <td>A34KFDQ5KBHZA5</td>\n",
       "      <td>steven conklin</td>\n",
       "      <td>7/27</td>\n",
       "      <td>5.0</td>\n",
       "      <td>1070064000</td>\n",
       "      <td>far from home the adventures of yellow dog</td>\n",
       "      <td>wellthis go show blindly accept critic review ...</td>\n",
       "    </tr>\n",
       "    <tr>\n",
       "      <th>21</th>\n",
       "      <td>B00004CQT3</td>\n",
       "      <td>A1CIW2OEVAJRM2</td>\n",
       "      <td>Godly Gadfly</td>\n",
       "      <td>7/28</td>\n",
       "      <td>5.0</td>\n",
       "      <td>1092441600</td>\n",
       "      <td>Spectacular and suspenseful family film!</td>\n",
       "      <td>cover dvd far home say large letter family fea...</td>\n",
       "    </tr>\n",
       "    <tr>\n",
       "      <th>22</th>\n",
       "      <td>B00004CQT3</td>\n",
       "      <td>A1VJCDRXUQVXBM</td>\n",
       "      <td>K. Kangley</td>\n",
       "      <td>7/29</td>\n",
       "      <td>5.0</td>\n",
       "      <td>964915200</td>\n",
       "      <td>A truly wonderful family film</td>\n",
       "      <td>would beg differ description film typical quot...</td>\n",
       "    </tr>\n",
       "    <tr>\n",
       "      <th>23</th>\n",
       "      <td>B00004CQT3</td>\n",
       "      <td>A2IMLPUXYQJTSY</td>\n",
       "      <td>Jerry Loveless  jerryl3515</td>\n",
       "      <td>7/30</td>\n",
       "      <td>5.0</td>\n",
       "      <td>1146960000</td>\n",
       "      <td>Excellent Family Movie</td>\n",
       "      <td>owner yellow lab might bit biased mesmerized m...</td>\n",
       "    </tr>\n",
       "    <tr>\n",
       "      <th>24</th>\n",
       "      <td>B00004CQT3</td>\n",
       "      <td>A1D12NAC1U12F0</td>\n",
       "      <td>Frank J. Pickens  Blade</td>\n",
       "      <td>7/31</td>\n",
       "      <td>5.0</td>\n",
       "      <td>1154304000</td>\n",
       "      <td>Awesome Dog Movie</td>\n",
       "      <td>yellow lab absolutley love movie true dog love...</td>\n",
       "    </tr>\n",
       "    <tr>\n",
       "      <th>25</th>\n",
       "      <td>B00004CQT3</td>\n",
       "      <td>A3RVH9HUN9J4LZ</td>\n",
       "      <td>Michael</td>\n",
       "      <td>7/32</td>\n",
       "      <td>5.0</td>\n",
       "      <td>1248825600</td>\n",
       "      <td>A movie for all ages</td>\n",
       "      <td>kid enjoy film one rare movie kid adult enjoy ...</td>\n",
       "    </tr>\n",
       "    <tr>\n",
       "      <th>26</th>\n",
       "      <td>B00004CQT3</td>\n",
       "      <td>AH7ZNGM8WOOGN</td>\n",
       "      <td>Gary E. Hogan  GEH</td>\n",
       "      <td>7/33</td>\n",
       "      <td>5.0</td>\n",
       "      <td>1179792000</td>\n",
       "      <td>Great American Movie</td>\n",
       "      <td>far one best american movie seen long indeed t...</td>\n",
       "    </tr>\n",
       "    <tr>\n",
       "      <th>27</th>\n",
       "      <td>B00004CQT3</td>\n",
       "      <td>A2582KMXLK2P06</td>\n",
       "      <td>B. E Jackson</td>\n",
       "      <td>7/34</td>\n",
       "      <td>3.0</td>\n",
       "      <td>1323043200</td>\n",
       "      <td>uh oh</td>\n",
       "      <td>sorry scrooge christmas rapidly approaching wa...</td>\n",
       "    </tr>\n",
       "    <tr>\n",
       "      <th>28</th>\n",
       "      <td>B00004CQT3</td>\n",
       "      <td>A1J50B4K22D93F</td>\n",
       "      <td>Jack</td>\n",
       "      <td>7/35</td>\n",
       "      <td>5.0</td>\n",
       "      <td>1314748800</td>\n",
       "      <td>Amazing</td>\n",
       "      <td>word really wife would stop mourn end movie in...</td>\n",
       "    </tr>\n",
       "    <tr>\n",
       "      <th>29</th>\n",
       "      <td>B00004CQT3</td>\n",
       "      <td>A2DLKD4AC5JV5Q</td>\n",
       "      <td>Ranny Levy</td>\n",
       "      <td>7/36</td>\n",
       "      <td>4.0</td>\n",
       "      <td>1312156800</td>\n",
       "      <td>Dog Lover's Will Adore This</td>\n",
       "      <td>dog lover adventure far home adventure yellow ...</td>\n",
       "    </tr>\n",
       "    <tr>\n",
       "      <th>30</th>\n",
       "      <td>B00004CQT3</td>\n",
       "      <td>A8DDTUL8OWFMO</td>\n",
       "      <td>LuAnn Perkins</td>\n",
       "      <td>7/37</td>\n",
       "      <td>5.0</td>\n",
       "      <td>1301443200</td>\n",
       "      <td>Family Movie</td>\n",
       "      <td>refreshing family movie dog find boy boy keep ...</td>\n",
       "    </tr>\n",
       "    <tr>\n",
       "      <th>31</th>\n",
       "      <td>B00004CQT3</td>\n",
       "      <td>A174WE983H06N4</td>\n",
       "      <td>ZombiBoi</td>\n",
       "      <td>7/38</td>\n",
       "      <td>5.0</td>\n",
       "      <td>1298937600</td>\n",
       "      <td>Family entertainment that's not just for the kids</td>\n",
       "      <td>first viewed film young teen year old guy find...</td>\n",
       "    </tr>\n",
       "    <tr>\n",
       "      <th>32</th>\n",
       "      <td>B00004CQT3</td>\n",
       "      <td>ASES4LU7WKYC</td>\n",
       "      <td>J. L. Noble</td>\n",
       "      <td>7/39</td>\n",
       "      <td>5.0</td>\n",
       "      <td>1272240000</td>\n",
       "      <td>Thanx</td>\n",
       "      <td>sister husband requested movie thanx deliverin...</td>\n",
       "    </tr>\n",
       "    <tr>\n",
       "      <th>33</th>\n",
       "      <td>B00004CQT3</td>\n",
       "      <td>A3N27L13CWJ9HY</td>\n",
       "      <td>D. R. Smith</td>\n",
       "      <td>7/40</td>\n",
       "      <td>5.0</td>\n",
       "      <td>1270425600</td>\n",
       "      <td>Family movie</td>\n",
       "      <td>grandson favorite movie watch boy lost nw rain...</td>\n",
       "    </tr>\n",
       "    <tr>\n",
       "      <th>34</th>\n",
       "      <td>B00004CQT3</td>\n",
       "      <td>A2H5D7IK9SF07M</td>\n",
       "      <td>ER</td>\n",
       "      <td>7/41</td>\n",
       "      <td>5.0</td>\n",
       "      <td>1268179200</td>\n",
       "      <td>Fabulous and realistic</td>\n",
       "      <td>fantastic movie whole family scenery incredibl...</td>\n",
       "    </tr>\n",
       "    <tr>\n",
       "      <th>35</th>\n",
       "      <td>B00004CQT3</td>\n",
       "      <td>A2URPOBDQK3WG</td>\n",
       "      <td>Shannon M. Naramore</td>\n",
       "      <td>7/42</td>\n",
       "      <td>5.0</td>\n",
       "      <td>1264809600</td>\n",
       "      <td>yellow dog</td>\n",
       "      <td>dont make movie like great movie movie library...</td>\n",
       "    </tr>\n",
       "    <tr>\n",
       "      <th>36</th>\n",
       "      <td>B00004CQT3</td>\n",
       "      <td>A2TTVV34NLMZI8</td>\n",
       "      <td>Hank  Hank</td>\n",
       "      <td>7/43</td>\n",
       "      <td>5.0</td>\n",
       "      <td>1262217600</td>\n",
       "      <td>Great Family Movie</td>\n",
       "      <td>family loved adventure especially boy laughed ...</td>\n",
       "    </tr>\n",
       "    <tr>\n",
       "      <th>37</th>\n",
       "      <td>B00004CQT3</td>\n",
       "      <td>A7LRQFZW3D9NE</td>\n",
       "      <td>Dario R Opistan</td>\n",
       "      <td>7/44</td>\n",
       "      <td>5.0</td>\n",
       "      <td>1245888000</td>\n",
       "      <td>I love dogs</td>\n",
       "      <td>movie still amazes touch even seeing rd want s...</td>\n",
       "    </tr>\n",
       "    <tr>\n",
       "      <th>38</th>\n",
       "      <td>B00004CQT3</td>\n",
       "      <td>A2R1VN4J5L2ZCO</td>\n",
       "      <td>TieDi</td>\n",
       "      <td>7/45</td>\n",
       "      <td>5.0</td>\n",
       "      <td>1222992000</td>\n",
       "      <td>Good Family Video</td>\n",
       "      <td>like title say good family video br movie fami...</td>\n",
       "    </tr>\n",
       "    <tr>\n",
       "      <th>39</th>\n",
       "      <td>B00004CQT3</td>\n",
       "      <td>A2I6MHMAZZDCRX</td>\n",
       "      <td>Mark Baker</td>\n",
       "      <td>7/46</td>\n",
       "      <td>3.0</td>\n",
       "      <td>1222819200</td>\n",
       "      <td>A Boy and His Dog Fight to Survive</td>\n",
       "      <td>growing pacific northwest young angus mccormic...</td>\n",
       "    </tr>\n",
       "    <tr>\n",
       "      <th>40</th>\n",
       "      <td>B00004CQT3</td>\n",
       "      <td>A3GX0UO7XXZST2</td>\n",
       "      <td>Rob Hobbs</td>\n",
       "      <td>7/47</td>\n",
       "      <td>4.0</td>\n",
       "      <td>1034035200</td>\n",
       "      <td>Good Family Movie</td>\n",
       "      <td>family really enjoys movie story terribly pred...</td>\n",
       "    </tr>\n",
       "    <tr>\n",
       "      <th>41</th>\n",
       "      <td>B00004CQT3</td>\n",
       "      <td>A2942G3FDOIM18</td>\n",
       "      <td>Vicki D. Syrett  grandma-vicki</td>\n",
       "      <td>7/48</td>\n",
       "      <td>5.0</td>\n",
       "      <td>997315200</td>\n",
       "      <td>Far From Home Adventures of Yellow Dog</td>\n",
       "      <td>disagree reviewer said movie predictable drawn...</td>\n",
       "    </tr>\n",
       "    <tr>\n",
       "      <th>42</th>\n",
       "      <td>B00004CQT3</td>\n",
       "      <td>A11L5M4MJP00UW</td>\n",
       "      <td>David L Hutchins  Music Lover</td>\n",
       "      <td>7/49</td>\n",
       "      <td>3.0</td>\n",
       "      <td>1168473600</td>\n",
       "      <td>Disappointing</td>\n",
       "      <td>love dog really wanted love film unfortunately...</td>\n",
       "    </tr>\n",
       "    <tr>\n",
       "      <th>43</th>\n",
       "      <td>B00004CQT3</td>\n",
       "      <td>A2VDM3D712BGLE</td>\n",
       "      <td>Elizabeth LaRosa</td>\n",
       "      <td>7/50</td>\n",
       "      <td>1.0</td>\n",
       "      <td>1262304000</td>\n",
       "      <td>Truly bad but not the worst</td>\n",
       "      <td>movie one worst ever seen acting good predicta...</td>\n",
       "    </tr>\n",
       "    <tr>\n",
       "      <th>44</th>\n",
       "      <td>B00004CQT4</td>\n",
       "      <td>A1NN07FHTQZZ6K</td>\n",
       "      <td>Michele Adams</td>\n",
       "      <td>7/51</td>\n",
       "      <td>5.0</td>\n",
       "      <td>1252195200</td>\n",
       "      <td>Who's the man</td>\n",
       "      <td>funny movie think way much cursing take away m...</td>\n",
       "    </tr>\n",
       "    <tr>\n",
       "      <th>45</th>\n",
       "      <td>B00004CQT4</td>\n",
       "      <td>A245OASCPKPJHC</td>\n",
       "      <td>Der girl</td>\n",
       "      <td>7/52</td>\n",
       "      <td>4.0</td>\n",
       "      <td>1239580800</td>\n",
       "      <td>Who's the Man</td>\n",
       "      <td>comedy done featuring alot old school hip hop ...</td>\n",
       "    </tr>\n",
       "    <tr>\n",
       "      <th>46</th>\n",
       "      <td>B00004CQT4</td>\n",
       "      <td>AVQRC2N2SSSYS</td>\n",
       "      <td>Mark A. Jones  Don't worry be happy!</td>\n",
       "      <td>7/53</td>\n",
       "      <td>4.0</td>\n",
       "      <td>1148774400</td>\n",
       "      <td>If you want a laugh</td>\n",
       "      <td>claim know rapper contained movie good laugh m...</td>\n",
       "    </tr>\n",
       "    <tr>\n",
       "      <th>47</th>\n",
       "      <td>B00004CQT4</td>\n",
       "      <td>A2ON9S58W4AZ1Z</td>\n",
       "      <td>Kindra</td>\n",
       "      <td>7/54</td>\n",
       "      <td>5.0</td>\n",
       "      <td>1012435200</td>\n",
       "      <td>A Classic!</td>\n",
       "      <td>great movie especially young adult early dr dr...</td>\n",
       "    </tr>\n",
       "    <tr>\n",
       "      <th>48</th>\n",
       "      <td>B00004CQT4</td>\n",
       "      <td>A3IG9WGCIHPJ6X</td>\n",
       "      <td>***  AC1962</td>\n",
       "      <td>7/55</td>\n",
       "      <td>4.0</td>\n",
       "      <td>1127952000</td>\n",
       "      <td>Not an Oscar contender</td>\n",
       "      <td>though never oscar contender funny h</td>\n",
       "    </tr>\n",
       "    <tr>\n",
       "      <th>49</th>\n",
       "      <td>B006JIUN2W</td>\n",
       "      <td>A44YJ6ZLTMAR6</td>\n",
       "      <td>Manoj Sharma</td>\n",
       "      <td>7/56</td>\n",
       "      <td>5.0</td>\n",
       "      <td>1335312000</td>\n",
       "      <td>Deep wide-ranging Phonics coverage</td>\n",
       "      <td>video cover phonics deep extent may little muc...</td>\n",
       "    </tr>\n",
       "  </tbody>\n",
       "</table>\n",
       "</div>"
      ],
      "text/plain": [
       "     productId          userId                              profileName  \\\n",
       "0   B003AI2VGA  A141HP4LYPWMSR          Brian E. Erland  Rainbow Sphinx   \n",
       "1   B003AI2VGA  A328S9RN3U5M68                               Grady Harp   \n",
       "2   B003AI2VGA  A1I7QGUDP043DG                 Chrissy K. McVay  Writer   \n",
       "3   B003AI2VGA  A1M5405JH9THP9                             golgotha.gov   \n",
       "4   B003AI2VGA   ATXL536YX71TR  KerrLines  &#34;MoviesMusicTheatre&#34;   \n",
       "5   B003AI2VGA  A3QYDL5CDNYN66                   abra  a devoted reader   \n",
       "6   B003AI2VGA   AQJVNDW6YZFQS                      Charles R. Williams   \n",
       "7   B00006HAXW   AD4CDZK7D31XP                        Anthony Accordino   \n",
       "8   B00006HAXW  A3Q4S5DFVPB70D                         Joseph P. Aiello   \n",
       "9   B00006HAXW  A2P7UB02HAVEPB                            bruce_from_la   \n",
       "10  B00006HAXW  A2TX99AZKDK0V7                         Henrique Peirano   \n",
       "11  B00006HAXW   AFC8IKR407HSK                           Richard Albero   \n",
       "12  B00006HAXW  A1FRPGQYQTAOR1                                      Les   \n",
       "13  B00006HAXW  A1RSDE90N6RSZF                          Joseph M. Kotow   \n",
       "14  B00006HAXW  A1OUBOGB5970AO                             fellafromnyc   \n",
       "15  B00006HAXW  A3NPHQVIY59Y0Y                                S. Dorman   \n",
       "16  B00006HAXW   AFKMBAY28XO8A                                      RFP   \n",
       "17  B00006HAXW   A66KMXH9V7OGU                                C. Thomas   \n",
       "18  B00006HAXW   AFJ27ZV9183B8                        Michael A. Martin   \n",
       "19  B00006HAXW   AXMKAXC0TR9AW                C. W. Emblom  Bill Emblom   \n",
       "20  B00004CQT3  A34KFDQ5KBHZA5                           steven conklin   \n",
       "21  B00004CQT3  A1CIW2OEVAJRM2                             Godly Gadfly   \n",
       "22  B00004CQT3  A1VJCDRXUQVXBM                               K. Kangley   \n",
       "23  B00004CQT3  A2IMLPUXYQJTSY               Jerry Loveless  jerryl3515   \n",
       "24  B00004CQT3  A1D12NAC1U12F0                  Frank J. Pickens  Blade   \n",
       "25  B00004CQT3  A3RVH9HUN9J4LZ                                  Michael   \n",
       "26  B00004CQT3   AH7ZNGM8WOOGN                       Gary E. Hogan  GEH   \n",
       "27  B00004CQT3  A2582KMXLK2P06                             B. E Jackson   \n",
       "28  B00004CQT3  A1J50B4K22D93F                                     Jack   \n",
       "29  B00004CQT3  A2DLKD4AC5JV5Q                               Ranny Levy   \n",
       "30  B00004CQT3   A8DDTUL8OWFMO                            LuAnn Perkins   \n",
       "31  B00004CQT3  A174WE983H06N4                                 ZombiBoi   \n",
       "32  B00004CQT3    ASES4LU7WKYC                              J. L. Noble   \n",
       "33  B00004CQT3  A3N27L13CWJ9HY                              D. R. Smith   \n",
       "34  B00004CQT3  A2H5D7IK9SF07M                                       ER   \n",
       "35  B00004CQT3   A2URPOBDQK3WG                      Shannon M. Naramore   \n",
       "36  B00004CQT3  A2TTVV34NLMZI8                               Hank  Hank   \n",
       "37  B00004CQT3   A7LRQFZW3D9NE                          Dario R Opistan   \n",
       "38  B00004CQT3  A2R1VN4J5L2ZCO                                    TieDi   \n",
       "39  B00004CQT3  A2I6MHMAZZDCRX                               Mark Baker   \n",
       "40  B00004CQT3  A3GX0UO7XXZST2                                Rob Hobbs   \n",
       "41  B00004CQT3  A2942G3FDOIM18           Vicki D. Syrett  grandma-vicki   \n",
       "42  B00004CQT3  A11L5M4MJP00UW            David L Hutchins  Music Lover   \n",
       "43  B00004CQT3  A2VDM3D712BGLE                         Elizabeth LaRosa   \n",
       "44  B00004CQT4  A1NN07FHTQZZ6K                            Michele Adams   \n",
       "45  B00004CQT4  A245OASCPKPJHC                                 Der girl   \n",
       "46  B00004CQT4   AVQRC2N2SSSYS     Mark A. Jones  Don't worry be happy!   \n",
       "47  B00004CQT4  A2ON9S58W4AZ1Z                                   Kindra   \n",
       "48  B00004CQT4  A3IG9WGCIHPJ6X                              ***  AC1962   \n",
       "49  B006JIUN2W   A44YJ6ZLTMAR6                             Manoj Sharma   \n",
       "\n",
       "   helpfulness  score        time  \\\n",
       "0        7-Jul    3.0  1182729600   \n",
       "1          7/8    3.0  1181952000   \n",
       "2          7/9    5.0  1164844800   \n",
       "3         7/10    3.0  1197158400   \n",
       "4         7/11    3.0  1188345600   \n",
       "5         7/12    2.0  1229040000   \n",
       "6         7/13    1.0  1164153600   \n",
       "7         7/14    5.0  1060473600   \n",
       "8         7/15    5.0  1041292800   \n",
       "9         7/16    5.0  1061164800   \n",
       "10        7/17    4.0  1039564800   \n",
       "11        7/18    5.0  1045526400   \n",
       "12        7/19    5.0  1062979200   \n",
       "13        7/20    5.0  1042502400   \n",
       "14        7/21    4.0  1049846400   \n",
       "15        7/22    5.0  1047945600   \n",
       "16        7/23    5.0  1038787200   \n",
       "17        7/24    5.0  1177804800   \n",
       "18        7/25    5.0  1200096000   \n",
       "19        7/26    5.0  1082592000   \n",
       "20        7/27    5.0  1070064000   \n",
       "21        7/28    5.0  1092441600   \n",
       "22        7/29    5.0   964915200   \n",
       "23        7/30    5.0  1146960000   \n",
       "24        7/31    5.0  1154304000   \n",
       "25        7/32    5.0  1248825600   \n",
       "26        7/33    5.0  1179792000   \n",
       "27        7/34    3.0  1323043200   \n",
       "28        7/35    5.0  1314748800   \n",
       "29        7/36    4.0  1312156800   \n",
       "30        7/37    5.0  1301443200   \n",
       "31        7/38    5.0  1298937600   \n",
       "32        7/39    5.0  1272240000   \n",
       "33        7/40    5.0  1270425600   \n",
       "34        7/41    5.0  1268179200   \n",
       "35        7/42    5.0  1264809600   \n",
       "36        7/43    5.0  1262217600   \n",
       "37        7/44    5.0  1245888000   \n",
       "38        7/45    5.0  1222992000   \n",
       "39        7/46    3.0  1222819200   \n",
       "40        7/47    4.0  1034035200   \n",
       "41        7/48    5.0   997315200   \n",
       "42        7/49    3.0  1168473600   \n",
       "43        7/50    1.0  1262304000   \n",
       "44        7/51    5.0  1252195200   \n",
       "45        7/52    4.0  1239580800   \n",
       "46        7/53    4.0  1148774400   \n",
       "47        7/54    5.0  1012435200   \n",
       "48        7/55    4.0  1127952000   \n",
       "49        7/56    5.0  1335312000   \n",
       "\n",
       "                                              summary  \\\n",
       "0   There Is So Much Darkness Now ~ Come For The M...   \n",
       "1   Worthwhile and Important Story Hampered by Poo...   \n",
       "2                       This movie needed to be made.   \n",
       "3                   distantly based on a real tragedy   \n",
       "4   What's going on down in Juarez and shining a l...   \n",
       "5                   Pretty pointless fictionalization   \n",
       "6                              This is junk stay away   \n",
       "7                       A  Rock N Roll History Lesson   \n",
       "8   A  MUST-HAVE  video if you grew up in the 50's...   \n",
       "9          If You Like DooWop You Gotta Have This DVD   \n",
       "10                                   I expected more.   \n",
       "11                            Professional Excellence   \n",
       "12                          Marvelous just Marvelous!   \n",
       "13                    Pittsburgh - Home of the OLDIES   \n",
       "14                 They sang in the subway in halls..   \n",
       "15         DOO WOP RECORDED HISTORY- A MUST HAVE ITEM   \n",
       "16                              ROCK RYTHM AND DOOWOP   \n",
       "17                         Unbelievable Best Concert!   \n",
       "18       Another outstanding performance and concert.   \n",
       "19     Outstanding Whether It Is Either On VHS Or DVD   \n",
       "20         far from home the adventures of yellow dog   \n",
       "21           Spectacular and suspenseful family film!   \n",
       "22                      A truly wonderful family film   \n",
       "23                             Excellent Family Movie   \n",
       "24                                  Awesome Dog Movie   \n",
       "25                               A movie for all ages   \n",
       "26                               Great American Movie   \n",
       "27                                              uh oh   \n",
       "28                                            Amazing   \n",
       "29                        Dog Lover's Will Adore This   \n",
       "30                                       Family Movie   \n",
       "31  Family entertainment that's not just for the kids   \n",
       "32                                              Thanx   \n",
       "33                                       Family movie   \n",
       "34                             Fabulous and realistic   \n",
       "35                                         yellow dog   \n",
       "36                                 Great Family Movie   \n",
       "37                                        I love dogs   \n",
       "38                                  Good Family Video   \n",
       "39                 A Boy and His Dog Fight to Survive   \n",
       "40                                  Good Family Movie   \n",
       "41             Far From Home Adventures of Yellow Dog   \n",
       "42                                      Disappointing   \n",
       "43                        Truly bad but not the worst   \n",
       "44                                      Who's the man   \n",
       "45                                      Who's the Man   \n",
       "46                                If you want a laugh   \n",
       "47                                         A Classic!   \n",
       "48                             Not an Oscar contender   \n",
       "49                 Deep wide-ranging Phonics coverage   \n",
       "\n",
       "                                           TextReview  \n",
       "0   synopsis daily trek juarez mexico el paso texa...  \n",
       "1   virgin juarez based true event surrounding cri...  \n",
       "2   scene film disquieting due graphic enactment r...  \n",
       "3   virgin juarez br directed kevin james dobson b...  \n",
       "4   informationally showtime original essential vi...  \n",
       "5   murder juarez real movie badly acted fantasy r...  \n",
       "6   mexican men macho rapist gangster ineffective ...  \n",
       "7   past year public television put series vintage...  \n",
       "8   recvd video dvd version christmas gift put pm ...  \n",
       "9   wow saw show pb great tune seeing group terrif...  \n",
       "10  doo wop dvd anxiously waiting rock rhythm doo ...  \n",
       "11  worked television year tell one finest doo wop...  \n",
       "12  people reviewed dvd said great came across con...  \n",
       "13  doo wop dvd one good better st one remember pe...  \n",
       "14  performance little anthony imperial singing qu...  \n",
       "15  get also get dop wop doo wop performance like ...  \n",
       "16  excellent excellent performer excellent video ...  \n",
       "17  video awesome particular interest anyone grew ...  \n",
       "18  stated review doo wop doo wop show extremely o...  \n",
       "19  vhs dvd version program second everything revi...  \n",
       "20  wellthis go show blindly accept critic review ...  \n",
       "21  cover dvd far home say large letter family fea...  \n",
       "22  would beg differ description film typical quot...  \n",
       "23  owner yellow lab might bit biased mesmerized m...  \n",
       "24  yellow lab absolutley love movie true dog love...  \n",
       "25  kid enjoy film one rare movie kid adult enjoy ...  \n",
       "26  far one best american movie seen long indeed t...  \n",
       "27  sorry scrooge christmas rapidly approaching wa...  \n",
       "28  word really wife would stop mourn end movie in...  \n",
       "29  dog lover adventure far home adventure yellow ...  \n",
       "30  refreshing family movie dog find boy boy keep ...  \n",
       "31  first viewed film young teen year old guy find...  \n",
       "32  sister husband requested movie thanx deliverin...  \n",
       "33  grandson favorite movie watch boy lost nw rain...  \n",
       "34  fantastic movie whole family scenery incredibl...  \n",
       "35  dont make movie like great movie movie library...  \n",
       "36  family loved adventure especially boy laughed ...  \n",
       "37  movie still amazes touch even seeing rd want s...  \n",
       "38  like title say good family video br movie fami...  \n",
       "39  growing pacific northwest young angus mccormic...  \n",
       "40  family really enjoys movie story terribly pred...  \n",
       "41  disagree reviewer said movie predictable drawn...  \n",
       "42  love dog really wanted love film unfortunately...  \n",
       "43  movie one worst ever seen acting good predicta...  \n",
       "44  funny movie think way much cursing take away m...  \n",
       "45  comedy done featuring alot old school hip hop ...  \n",
       "46  claim know rapper contained movie good laugh m...  \n",
       "47  great movie especially young adult early dr dr...  \n",
       "48               though never oscar contender funny h  \n",
       "49  video cover phonics deep extent may little muc...  "
      ]
     },
     "execution_count": 33,
     "metadata": {},
     "output_type": "execute_result"
    }
   ],
   "source": [
    "amazon.head(50)"
   ]
  },
  {
   "cell_type": "code",
   "execution_count": 57,
   "metadata": {},
   "outputs": [
    {
     "data": {
      "image/png": "[encoded data removed]",
      "text/plain": [
       "<matplotlib.figure.Figure at 0x28ab16523c8>"
      ]
     },
     "metadata": {},
     "output_type": "display_data"
    }
   ],
   "source": [
    "#Categorize the TextReview column into Positive, neutral and Negative sentiments using TextBlob\n",
    "#Plot the Sentiment_Type\n",
    "from textblob import TextBlob\n",
    "\n",
    "bloblist_desc = list()\n",
    "\n",
    "df_amazon=amazon['TextReview'].astype(str)\n",
    "for row in df_amazon:\n",
    "    blob = TextBlob(row)\n",
    "    bloblist_desc.append((row,blob.sentiment.polarity, blob.sentiment.subjectivity))\n",
    "    df_amazon = pd.DataFrame(bloblist_desc, columns = ['sentence','sentiment','polarity'])\n",
    " \n",
    "def f(df_amazon):\n",
    "    if df_amazon['sentiment'] > 0:\n",
    "        val = \"Positive\"\n",
    "    elif df_amazon['sentiment'] == 0:\n",
    "        val = \"Neutral\"\n",
    "    else:\n",
    "        val = \"Negative\"\n",
    "    return val\n",
    "\n",
    "df_amazon['Sentiment_Type'] = df_amazon.apply(f, axis=1)\n",
    "\n",
    "plt.figure(figsize=(10,10))\n",
    "sns.set_style(\"whitegrid\")\n",
    "ax = sns.countplot(x=\"Sentiment_Type\", data=df_amazon)"
   ]
  },
  {
   "cell_type": "code",
   "execution_count": 58,
   "metadata": {},
   "outputs": [
    {
     "data": {
      "text/html": [
       "<div>\n",
       "<style scoped>\n",
       "    .dataframe tbody tr th:only-of-type {\n",
       "        vertical-align: middle;\n",
       "    }\n",
       "\n",
       "    .dataframe tbody tr th {\n",
       "        vertical-align: top;\n",
       "    }\n",
       "\n",
       "    .dataframe thead th {\n",
       "        text-align: right;\n",
       "    }\n",
       "</style>\n",
       "<table border=\"1\" class=\"dataframe\">\n",
       "  <thead>\n",
       "    <tr style=\"text-align: right;\">\n",
       "      <th></th>\n",
       "      <th>sentence</th>\n",
       "      <th>sentiment</th>\n",
       "      <th>polarity</th>\n",
       "      <th>Sentiment_Type</th>\n",
       "    </tr>\n",
       "  </thead>\n",
       "  <tbody>\n",
       "    <tr>\n",
       "      <th>0</th>\n",
       "      <td>synopsis daily trek juarez mexico el paso texa...</td>\n",
       "      <td>-0.032917</td>\n",
       "      <td>0.472917</td>\n",
       "      <td>Negative</td>\n",
       "    </tr>\n",
       "    <tr>\n",
       "      <th>1</th>\n",
       "      <td>virgin juarez based true event surrounding cri...</td>\n",
       "      <td>0.003736</td>\n",
       "      <td>0.444828</td>\n",
       "      <td>Positive</td>\n",
       "    </tr>\n",
       "    <tr>\n",
       "      <th>2</th>\n",
       "      <td>scene film disquieting due graphic enactment r...</td>\n",
       "      <td>0.002549</td>\n",
       "      <td>0.557745</td>\n",
       "      <td>Positive</td>\n",
       "    </tr>\n",
       "    <tr>\n",
       "      <th>3</th>\n",
       "      <td>virgin juarez br directed kevin james dobson b...</td>\n",
       "      <td>0.027468</td>\n",
       "      <td>0.389858</td>\n",
       "      <td>Positive</td>\n",
       "    </tr>\n",
       "    <tr>\n",
       "      <th>4</th>\n",
       "      <td>informationally showtime original essential vi...</td>\n",
       "      <td>-0.013889</td>\n",
       "      <td>0.666667</td>\n",
       "      <td>Negative</td>\n",
       "    </tr>\n",
       "    <tr>\n",
       "      <th>5</th>\n",
       "      <td>murder juarez real movie badly acted fantasy r...</td>\n",
       "      <td>0.066667</td>\n",
       "      <td>0.522222</td>\n",
       "      <td>Positive</td>\n",
       "    </tr>\n",
       "    <tr>\n",
       "      <th>6</th>\n",
       "      <td>mexican men macho rapist gangster ineffective ...</td>\n",
       "      <td>-0.081250</td>\n",
       "      <td>0.320833</td>\n",
       "      <td>Negative</td>\n",
       "    </tr>\n",
       "    <tr>\n",
       "      <th>7</th>\n",
       "      <td>past year public television put series vintage...</td>\n",
       "      <td>0.157876</td>\n",
       "      <td>0.485648</td>\n",
       "      <td>Positive</td>\n",
       "    </tr>\n",
       "    <tr>\n",
       "      <th>8</th>\n",
       "      <td>recvd video dvd version christmas gift put pm ...</td>\n",
       "      <td>0.254386</td>\n",
       "      <td>0.465789</td>\n",
       "      <td>Positive</td>\n",
       "    </tr>\n",
       "    <tr>\n",
       "      <th>9</th>\n",
       "      <td>wow saw show pb great tune seeing group terrif...</td>\n",
       "      <td>0.195536</td>\n",
       "      <td>0.610714</td>\n",
       "      <td>Positive</td>\n",
       "    </tr>\n",
       "    <tr>\n",
       "      <th>10</th>\n",
       "      <td>doo wop dvd anxiously waiting rock rhythm doo ...</td>\n",
       "      <td>0.197222</td>\n",
       "      <td>0.617130</td>\n",
       "      <td>Positive</td>\n",
       "    </tr>\n",
       "    <tr>\n",
       "      <th>11</th>\n",
       "      <td>worked television year tell one finest doo wop...</td>\n",
       "      <td>0.348816</td>\n",
       "      <td>0.600529</td>\n",
       "      <td>Positive</td>\n",
       "    </tr>\n",
       "    <tr>\n",
       "      <th>12</th>\n",
       "      <td>people reviewed dvd said great came across con...</td>\n",
       "      <td>0.262500</td>\n",
       "      <td>0.750000</td>\n",
       "      <td>Positive</td>\n",
       "    </tr>\n",
       "    <tr>\n",
       "      <th>13</th>\n",
       "      <td>doo wop dvd one good better st one remember pe...</td>\n",
       "      <td>0.640000</td>\n",
       "      <td>0.660000</td>\n",
       "      <td>Positive</td>\n",
       "    </tr>\n",
       "    <tr>\n",
       "      <th>14</th>\n",
       "      <td>performance little anthony imperial singing qu...</td>\n",
       "      <td>0.178125</td>\n",
       "      <td>0.464286</td>\n",
       "      <td>Positive</td>\n",
       "    </tr>\n",
       "    <tr>\n",
       "      <th>15</th>\n",
       "      <td>get also get dop wop doo wop performance like ...</td>\n",
       "      <td>0.365000</td>\n",
       "      <td>0.573333</td>\n",
       "      <td>Positive</td>\n",
       "    </tr>\n",
       "    <tr>\n",
       "      <th>16</th>\n",
       "      <td>excellent excellent performer excellent video ...</td>\n",
       "      <td>0.660000</td>\n",
       "      <td>0.620000</td>\n",
       "      <td>Positive</td>\n",
       "    </tr>\n",
       "    <tr>\n",
       "      <th>17</th>\n",
       "      <td>video awesome particular interest anyone grew ...</td>\n",
       "      <td>0.397500</td>\n",
       "      <td>0.605152</td>\n",
       "      <td>Positive</td>\n",
       "    </tr>\n",
       "    <tr>\n",
       "      <th>18</th>\n",
       "      <td>stated review doo wop doo wop show extremely o...</td>\n",
       "      <td>0.130342</td>\n",
       "      <td>0.472660</td>\n",
       "      <td>Positive</td>\n",
       "    </tr>\n",
       "    <tr>\n",
       "      <th>19</th>\n",
       "      <td>vhs dvd version program second everything revi...</td>\n",
       "      <td>0.107176</td>\n",
       "      <td>0.347222</td>\n",
       "      <td>Positive</td>\n",
       "    </tr>\n",
       "    <tr>\n",
       "      <th>20</th>\n",
       "      <td>wellthis go show blindly accept critic review ...</td>\n",
       "      <td>0.104444</td>\n",
       "      <td>0.396667</td>\n",
       "      <td>Positive</td>\n",
       "    </tr>\n",
       "    <tr>\n",
       "      <th>21</th>\n",
       "      <td>cover dvd far home say large letter family fea...</td>\n",
       "      <td>0.152864</td>\n",
       "      <td>0.512709</td>\n",
       "      <td>Positive</td>\n",
       "    </tr>\n",
       "    <tr>\n",
       "      <th>22</th>\n",
       "      <td>would beg differ description film typical quot...</td>\n",
       "      <td>0.174653</td>\n",
       "      <td>0.452778</td>\n",
       "      <td>Positive</td>\n",
       "    </tr>\n",
       "    <tr>\n",
       "      <th>23</th>\n",
       "      <td>owner yellow lab might bit biased mesmerized m...</td>\n",
       "      <td>0.012500</td>\n",
       "      <td>0.537500</td>\n",
       "      <td>Positive</td>\n",
       "    </tr>\n",
       "    <tr>\n",
       "      <th>24</th>\n",
       "      <td>yellow lab absolutley love movie true dog love...</td>\n",
       "      <td>0.131250</td>\n",
       "      <td>0.416071</td>\n",
       "      <td>Positive</td>\n",
       "    </tr>\n",
       "    <tr>\n",
       "      <th>25</th>\n",
       "      <td>kid enjoy film one rare movie kid adult enjoy ...</td>\n",
       "      <td>0.333333</td>\n",
       "      <td>0.652381</td>\n",
       "      <td>Positive</td>\n",
       "    </tr>\n",
       "    <tr>\n",
       "      <th>26</th>\n",
       "      <td>far one best american movie seen long indeed t...</td>\n",
       "      <td>0.233333</td>\n",
       "      <td>0.391667</td>\n",
       "      <td>Positive</td>\n",
       "    </tr>\n",
       "    <tr>\n",
       "      <th>27</th>\n",
       "      <td>sorry scrooge christmas rapidly approaching wa...</td>\n",
       "      <td>0.023522</td>\n",
       "      <td>0.452381</td>\n",
       "      <td>Positive</td>\n",
       "    </tr>\n",
       "    <tr>\n",
       "      <th>28</th>\n",
       "      <td>word really wife would stop mourn end movie in...</td>\n",
       "      <td>0.271429</td>\n",
       "      <td>0.764286</td>\n",
       "      <td>Positive</td>\n",
       "    </tr>\n",
       "    <tr>\n",
       "      <th>29</th>\n",
       "      <td>dog lover adventure far home adventure yellow ...</td>\n",
       "      <td>0.215909</td>\n",
       "      <td>0.401136</td>\n",
       "      <td>Positive</td>\n",
       "    </tr>\n",
       "    <tr>\n",
       "      <th>...</th>\n",
       "      <td>...</td>\n",
       "      <td>...</td>\n",
       "      <td>...</td>\n",
       "      <td>...</td>\n",
       "    </tr>\n",
       "    <tr>\n",
       "      <th>249838</th>\n",
       "      <td>jarhead based autobiography former u marine an...</td>\n",
       "      <td>0.071164</td>\n",
       "      <td>0.396958</td>\n",
       "      <td>Positive</td>\n",
       "    </tr>\n",
       "    <tr>\n",
       "      <th>249839</th>\n",
       "      <td>lean surreal yeah done one gulf good actor stu...</td>\n",
       "      <td>0.483333</td>\n",
       "      <td>0.866667</td>\n",
       "      <td>Positive</td>\n",
       "    </tr>\n",
       "    <tr>\n",
       "      <th>249840</th>\n",
       "      <td>based real life experience anthony swofford op...</td>\n",
       "      <td>0.250397</td>\n",
       "      <td>0.505159</td>\n",
       "      <td>Positive</td>\n",
       "    </tr>\n",
       "    <tr>\n",
       "      <th>249841</th>\n",
       "      <td>doubt jarhead one movie either love hate actua...</td>\n",
       "      <td>0.201366</td>\n",
       "      <td>0.533492</td>\n",
       "      <td>Positive</td>\n",
       "    </tr>\n",
       "    <tr>\n",
       "      <th>249842</th>\n",
       "      <td>dont understand negative review movie br br ev...</td>\n",
       "      <td>0.231713</td>\n",
       "      <td>0.493983</td>\n",
       "      <td>Positive</td>\n",
       "    </tr>\n",
       "    <tr>\n",
       "      <th>249843</th>\n",
       "      <td>marine veteran gulf war veteran found little r...</td>\n",
       "      <td>0.010170</td>\n",
       "      <td>0.353197</td>\n",
       "      <td>Positive</td>\n",
       "    </tr>\n",
       "    <tr>\n",
       "      <th>249844</th>\n",
       "      <td>absolutely loved movie stand crowd generic war...</td>\n",
       "      <td>0.224186</td>\n",
       "      <td>0.598934</td>\n",
       "      <td>Positive</td>\n",
       "    </tr>\n",
       "    <tr>\n",
       "      <th>249845</th>\n",
       "      <td>bought movie dvd weekend watched must say bit ...</td>\n",
       "      <td>0.214583</td>\n",
       "      <td>0.413889</td>\n",
       "      <td>Positive</td>\n",
       "    </tr>\n",
       "    <tr>\n",
       "      <th>249846</th>\n",
       "      <td>jake gyllenhall great job performance marine s...</td>\n",
       "      <td>0.079430</td>\n",
       "      <td>0.399879</td>\n",
       "      <td>Positive</td>\n",
       "    </tr>\n",
       "    <tr>\n",
       "      <th>249847</th>\n",
       "      <td>jarhead neither heroic entertaining war film i...</td>\n",
       "      <td>0.025551</td>\n",
       "      <td>0.543027</td>\n",
       "      <td>Positive</td>\n",
       "    </tr>\n",
       "    <tr>\n",
       "      <th>249848</th>\n",
       "      <td>think order understand movie better need sort ...</td>\n",
       "      <td>0.287500</td>\n",
       "      <td>0.329167</td>\n",
       "      <td>Positive</td>\n",
       "    </tr>\n",
       "    <tr>\n",
       "      <th>249849</th>\n",
       "      <td>welcome suck br br know never sure meant well ...</td>\n",
       "      <td>0.076554</td>\n",
       "      <td>0.573093</td>\n",
       "      <td>Positive</td>\n",
       "    </tr>\n",
       "    <tr>\n",
       "      <th>249850</th>\n",
       "      <td>rented one last night expecting typical war st...</td>\n",
       "      <td>-0.009333</td>\n",
       "      <td>0.373366</td>\n",
       "      <td>Negative</td>\n",
       "    </tr>\n",
       "    <tr>\n",
       "      <th>249851</th>\n",
       "      <td>ordered son watched day go long detail seeing ...</td>\n",
       "      <td>0.200000</td>\n",
       "      <td>0.533333</td>\n",
       "      <td>Positive</td>\n",
       "    </tr>\n",
       "    <tr>\n",
       "      <th>249852</th>\n",
       "      <td>easily impressed jarhead never member military...</td>\n",
       "      <td>0.170000</td>\n",
       "      <td>0.577000</td>\n",
       "      <td>Positive</td>\n",
       "    </tr>\n",
       "    <tr>\n",
       "      <th>249853</th>\n",
       "      <td>jarhead great movie take look human nature psy...</td>\n",
       "      <td>0.225000</td>\n",
       "      <td>0.325000</td>\n",
       "      <td>Positive</td>\n",
       "    </tr>\n",
       "    <tr>\n",
       "      <th>249854</th>\n",
       "      <td>saw movie theater first came buying dvd today ...</td>\n",
       "      <td>0.090909</td>\n",
       "      <td>0.373864</td>\n",
       "      <td>Positive</td>\n",
       "    </tr>\n",
       "    <tr>\n",
       "      <th>249855</th>\n",
       "      <td>first thought movie flat uninspiring depressiv...</td>\n",
       "      <td>0.167803</td>\n",
       "      <td>0.480682</td>\n",
       "      <td>Positive</td>\n",
       "    </tr>\n",
       "    <tr>\n",
       "      <th>249856</th>\n",
       "      <td>hollywood prof touch real world anyone seen mo...</td>\n",
       "      <td>0.042857</td>\n",
       "      <td>0.421429</td>\n",
       "      <td>Positive</td>\n",
       "    </tr>\n",
       "    <tr>\n",
       "      <th>249857</th>\n",
       "      <td>seen movie twice far enthralled every second n...</td>\n",
       "      <td>0.164189</td>\n",
       "      <td>0.544993</td>\n",
       "      <td>Positive</td>\n",
       "    </tr>\n",
       "    <tr>\n",
       "      <th>249858</th>\n",
       "      <td>stupid movie ever load garbage even entertaini...</td>\n",
       "      <td>-0.120000</td>\n",
       "      <td>0.620000</td>\n",
       "      <td>Negative</td>\n",
       "    </tr>\n",
       "    <tr>\n",
       "      <th>249859</th>\n",
       "      <td>jarhead follows jake gyllenhall marine bootcam...</td>\n",
       "      <td>-0.081061</td>\n",
       "      <td>0.657576</td>\n",
       "      <td>Negative</td>\n",
       "    </tr>\n",
       "    <tr>\n",
       "      <th>249860</th>\n",
       "      <td>excited hear movie set iraqui conflict determi...</td>\n",
       "      <td>0.075573</td>\n",
       "      <td>0.573038</td>\n",
       "      <td>Positive</td>\n",
       "    </tr>\n",
       "    <tr>\n",
       "      <th>249861</th>\n",
       "      <td>hate war movie always always said rarely watch...</td>\n",
       "      <td>0.225491</td>\n",
       "      <td>0.581981</td>\n",
       "      <td>Positive</td>\n",
       "    </tr>\n",
       "    <tr>\n",
       "      <th>249862</th>\n",
       "      <td>looking another saving private ryan keep looki...</td>\n",
       "      <td>0.097222</td>\n",
       "      <td>0.418056</td>\n",
       "      <td>Positive</td>\n",
       "    </tr>\n",
       "    <tr>\n",
       "      <th>249863</th>\n",
       "      <td>jarhead best picture definitively best movie w...</td>\n",
       "      <td>0.187874</td>\n",
       "      <td>0.432908</td>\n",
       "      <td>Positive</td>\n",
       "    </tr>\n",
       "    <tr>\n",
       "      <th>249864</th>\n",
       "      <td>highly underrated film come define first gulf ...</td>\n",
       "      <td>0.035446</td>\n",
       "      <td>0.495781</td>\n",
       "      <td>Positive</td>\n",
       "    </tr>\n",
       "    <tr>\n",
       "      <th>249865</th>\n",
       "      <td>really enjoyed movie im one watch war movie ev...</td>\n",
       "      <td>0.220833</td>\n",
       "      <td>0.612500</td>\n",
       "      <td>Positive</td>\n",
       "    </tr>\n",
       "    <tr>\n",
       "      <th>249866</th>\n",
       "      <td>jarhead based anthony swofford memoir jarhead ...</td>\n",
       "      <td>0.148958</td>\n",
       "      <td>0.381439</td>\n",
       "      <td>Positive</td>\n",
       "    </tr>\n",
       "    <tr>\n",
       "      <th>249867</th>\n",
       "      <td>kayne west song appear produced year gulf war ...</td>\n",
       "      <td>0.010061</td>\n",
       "      <td>0.455837</td>\n",
       "      <td>Positive</td>\n",
       "    </tr>\n",
       "  </tbody>\n",
       "</table>\n",
       "<p>249868 rows × 4 columns</p>\n",
       "</div>"
      ],
      "text/plain": [
       "                                                 sentence  sentiment  \\\n",
       "0       synopsis daily trek juarez mexico el paso texa...  -0.032917   \n",
       "1       virgin juarez based true event surrounding cri...   0.003736   \n",
       "2       scene film disquieting due graphic enactment r...   0.002549   \n",
       "3       virgin juarez br directed kevin james dobson b...   0.027468   \n",
       "4       informationally showtime original essential vi...  -0.013889   \n",
       "5       murder juarez real movie badly acted fantasy r...   0.066667   \n",
       "6       mexican men macho rapist gangster ineffective ...  -0.081250   \n",
       "7       past year public television put series vintage...   0.157876   \n",
       "8       recvd video dvd version christmas gift put pm ...   0.254386   \n",
       "9       wow saw show pb great tune seeing group terrif...   0.195536   \n",
       "10      doo wop dvd anxiously waiting rock rhythm doo ...   0.197222   \n",
       "11      worked television year tell one finest doo wop...   0.348816   \n",
       "12      people reviewed dvd said great came across con...   0.262500   \n",
       "13      doo wop dvd one good better st one remember pe...   0.640000   \n",
       "14      performance little anthony imperial singing qu...   0.178125   \n",
       "15      get also get dop wop doo wop performance like ...   0.365000   \n",
       "16      excellent excellent performer excellent video ...   0.660000   \n",
       "17      video awesome particular interest anyone grew ...   0.397500   \n",
       "18      stated review doo wop doo wop show extremely o...   0.130342   \n",
       "19      vhs dvd version program second everything revi...   0.107176   \n",
       "20      wellthis go show blindly accept critic review ...   0.104444   \n",
       "21      cover dvd far home say large letter family fea...   0.152864   \n",
       "22      would beg differ description film typical quot...   0.174653   \n",
       "23      owner yellow lab might bit biased mesmerized m...   0.012500   \n",
       "24      yellow lab absolutley love movie true dog love...   0.131250   \n",
       "25      kid enjoy film one rare movie kid adult enjoy ...   0.333333   \n",
       "26      far one best american movie seen long indeed t...   0.233333   \n",
       "27      sorry scrooge christmas rapidly approaching wa...   0.023522   \n",
       "28      word really wife would stop mourn end movie in...   0.271429   \n",
       "29      dog lover adventure far home adventure yellow ...   0.215909   \n",
       "...                                                   ...        ...   \n",
       "249838  jarhead based autobiography former u marine an...   0.071164   \n",
       "249839  lean surreal yeah done one gulf good actor stu...   0.483333   \n",
       "249840  based real life experience anthony swofford op...   0.250397   \n",
       "249841  doubt jarhead one movie either love hate actua...   0.201366   \n",
       "249842  dont understand negative review movie br br ev...   0.231713   \n",
       "249843  marine veteran gulf war veteran found little r...   0.010170   \n",
       "249844  absolutely loved movie stand crowd generic war...   0.224186   \n",
       "249845  bought movie dvd weekend watched must say bit ...   0.214583   \n",
       "249846  jake gyllenhall great job performance marine s...   0.079430   \n",
       "249847  jarhead neither heroic entertaining war film i...   0.025551   \n",
       "249848  think order understand movie better need sort ...   0.287500   \n",
       "249849  welcome suck br br know never sure meant well ...   0.076554   \n",
       "249850  rented one last night expecting typical war st...  -0.009333   \n",
       "249851  ordered son watched day go long detail seeing ...   0.200000   \n",
       "249852  easily impressed jarhead never member military...   0.170000   \n",
       "249853  jarhead great movie take look human nature psy...   0.225000   \n",
       "249854  saw movie theater first came buying dvd today ...   0.090909   \n",
       "249855  first thought movie flat uninspiring depressiv...   0.167803   \n",
       "249856  hollywood prof touch real world anyone seen mo...   0.042857   \n",
       "249857  seen movie twice far enthralled every second n...   0.164189   \n",
       "249858  stupid movie ever load garbage even entertaini...  -0.120000   \n",
       "249859  jarhead follows jake gyllenhall marine bootcam...  -0.081061   \n",
       "249860  excited hear movie set iraqui conflict determi...   0.075573   \n",
       "249861  hate war movie always always said rarely watch...   0.225491   \n",
       "249862  looking another saving private ryan keep looki...   0.097222   \n",
       "249863  jarhead best picture definitively best movie w...   0.187874   \n",
       "249864  highly underrated film come define first gulf ...   0.035446   \n",
       "249865  really enjoyed movie im one watch war movie ev...   0.220833   \n",
       "249866  jarhead based anthony swofford memoir jarhead ...   0.148958   \n",
       "249867  kayne west song appear produced year gulf war ...   0.010061   \n",
       "\n",
       "        polarity Sentiment_Type  \n",
       "0       0.472917       Negative  \n",
       "1       0.444828       Positive  \n",
       "2       0.557745       Positive  \n",
       "3       0.389858       Positive  \n",
       "4       0.666667       Negative  \n",
       "5       0.522222       Positive  \n",
       "6       0.320833       Negative  \n",
       "7       0.485648       Positive  \n",
       "8       0.465789       Positive  \n",
       "9       0.610714       Positive  \n",
       "10      0.617130       Positive  \n",
       "11      0.600529       Positive  \n",
       "12      0.750000       Positive  \n",
       "13      0.660000       Positive  \n",
       "14      0.464286       Positive  \n",
       "15      0.573333       Positive  \n",
       "16      0.620000       Positive  \n",
       "17      0.605152       Positive  \n",
       "18      0.472660       Positive  \n",
       "19      0.347222       Positive  \n",
       "20      0.396667       Positive  \n",
       "21      0.512709       Positive  \n",
       "22      0.452778       Positive  \n",
       "23      0.537500       Positive  \n",
       "24      0.416071       Positive  \n",
       "25      0.652381       Positive  \n",
       "26      0.391667       Positive  \n",
       "27      0.452381       Positive  \n",
       "28      0.764286       Positive  \n",
       "29      0.401136       Positive  \n",
       "...          ...            ...  \n",
       "249838  0.396958       Positive  \n",
       "249839  0.866667       Positive  \n",
       "249840  0.505159       Positive  \n",
       "249841  0.533492       Positive  \n",
       "249842  0.493983       Positive  \n",
       "249843  0.353197       Positive  \n",
       "249844  0.598934       Positive  \n",
       "249845  0.413889       Positive  \n",
       "249846  0.399879       Positive  \n",
       "249847  0.543027       Positive  \n",
       "249848  0.329167       Positive  \n",
       "249849  0.573093       Positive  \n",
       "249850  0.373366       Negative  \n",
       "249851  0.533333       Positive  \n",
       "249852  0.577000       Positive  \n",
       "249853  0.325000       Positive  \n",
       "249854  0.373864       Positive  \n",
       "249855  0.480682       Positive  \n",
       "249856  0.421429       Positive  \n",
       "249857  0.544993       Positive  \n",
       "249858  0.620000       Negative  \n",
       "249859  0.657576       Negative  \n",
       "249860  0.573038       Positive  \n",
       "249861  0.581981       Positive  \n",
       "249862  0.418056       Positive  \n",
       "249863  0.432908       Positive  \n",
       "249864  0.495781       Positive  \n",
       "249865  0.612500       Positive  \n",
       "249866  0.381439       Positive  \n",
       "249867  0.455837       Positive  \n",
       "\n",
       "[249868 rows x 4 columns]"
      ]
     },
     "execution_count": 58,
     "metadata": {},
     "output_type": "execute_result"
    }
   ],
   "source": [
    "df_amazon"
   ]
  },
  {
   "cell_type": "code",
   "execution_count": 59,
   "metadata": {},
   "outputs": [],
   "source": [
    "#prediction\n",
    "#Train/Test Split\n",
    "x_train, x_test, y_train, y_test = train_test_split(df_amazon.sentence, df_amazon.Sentiment_Type, random_state=0)"
   ]
  },
  {
   "cell_type": "code",
   "execution_count": 60,
   "metadata": {},
   "outputs": [
    {
     "name": "stdout",
     "output_type": "stream",
     "text": [
      "x_train shape: (187401,)\n",
      "y_train shape: (187401,)\n",
      "\n",
      "x_test shape: (62467,)\n",
      "y_test shape: (62467,)\n",
      "\n"
     ]
    }
   ],
   "source": [
    "print(\"x_train shape: {}\".format(x_train.shape), end='\\n')\n",
    "print(\"y_train shape: {}\".format(y_train.shape), end='\\n\\n')\n",
    "print(\"x_test shape: {}\".format(x_test.shape), end='\\n')\n",
    "print(\"y_test shape: {}\".format(y_test.shape), end='\\n\\n')"
   ]
  },
  {
   "cell_type": "code",
   "execution_count": 142,
   "metadata": {},
   "outputs": [
    {
     "name": "stdout",
     "output_type": "stream",
     "text": [
      "X_train:\n",
      "<187401x85402 sparse matrix of type '<class 'numpy.int64'>'\n",
      "\twith 11146922 stored elements in Compressed Sparse Row format>\n",
      "X_test:\n",
      "<62467x85402 sparse matrix of type '<class 'numpy.int64'>'\n",
      "\twith 3687504 stored elements in Compressed Sparse Row format>\n"
     ]
    }
   ],
   "source": [
    "#CountVectorizer\n",
    "# Vectorize X_train and X_test\n",
    "vectorizer = CountVectorizer(max_df=0.95, min_df=2, stop_words='english').fit(x_train)\n",
    "X_train = vectorizer.transform(x_train)\n",
    "X_test = vectorizer.transform(x_test)\n",
    "print(\"X_train:\\n{}\".format(repr(X_train)))\n",
    "print(\"X_test:\\n{}\".format(repr(X_test)))"
   ]
  },
  {
   "cell_type": "code",
   "execution_count": 143,
   "metadata": {},
   "outputs": [
    {
     "data": {
      "text/plain": [
       "GridSearchCV(cv=5, error_score='raise',\n",
       "       estimator=LogisticRegression(C=1.0, class_weight=None, dual=False, fit_intercept=True,\n",
       "          intercept_scaling=1, max_iter=100, multi_class='ovr', n_jobs=1,\n",
       "          penalty='l2', random_state=None, solver='liblinear', tol=0.0001,\n",
       "          verbose=0, warm_start=False),\n",
       "       fit_params=None, iid=True, n_jobs=1,\n",
       "       param_grid={'C': [0.001, 0.01, 0.1, 1, 10]},\n",
       "       pre_dispatch='2*n_jobs', refit=True, return_train_score='warn',\n",
       "       scoring=None, verbose=0)"
      ]
     },
     "execution_count": 143,
     "metadata": {},
     "output_type": "execute_result"
    }
   ],
   "source": [
    "#GridSearchCV on training data\n",
    "param_grid = {'C': [0.001, 0.01, 0.1, 1, 10]}\n",
    "\n",
    "grid = GridSearchCV(LogisticRegression(), param_grid, cv=5)\n",
    "grid.fit(X_train, y_train)"
   ]
  },
  {
   "cell_type": "code",
   "execution_count": 141,
   "metadata": {},
   "outputs": [
    {
     "name": "stdout",
     "output_type": "stream",
     "text": [
      "Best cross-validation score: 0.910\n",
      "Best parameters:  {'C': 1}\n"
     ]
    }
   ],
   "source": [
    "#Find best parameter from GridSearchCV and apply it in Logistic Regression classifier for best accuracy\n",
    "print(\"Best cross-validation score: {:.3f}\".format(grid.best_score_))\n",
    "print(\"Best parameters: \", grid.best_params_)"
   ]
  },
  {
   "cell_type": "code",
   "execution_count": 144,
   "metadata": {},
   "outputs": [
    {
     "name": "stdout",
     "output_type": "stream",
     "text": [
      "Mean cross-validation accuracy for Logistic Regression classifier : 0.962\n"
     ]
    }
   ],
   "source": [
    "#Logistic Regression\n",
    "#Mean cross-validation for Logistic Regression on Training data\n",
    "scores = cross_val_score(LogisticRegression(), X_train, y_train, cv=5)\n",
    "print(\"Mean cross-validation accuracy for Logistic Regression classifier : {:.3f}\".format(np.mean(scores)))"
   ]
  },
  {
   "cell_type": "code",
   "execution_count": 145,
   "metadata": {},
   "outputs": [],
   "source": [
    "logreg = LogisticRegression(C=1).fit(X_train, y_train)\n",
    "log_y_pred = logreg.predict(X_test)"
   ]
  },
  {
   "cell_type": "code",
   "execution_count": 146,
   "metadata": {},
   "outputs": [
    {
     "name": "stdout",
     "output_type": "stream",
     "text": [
      "Logistic Regression Classifier Accuracy:   0.965\n"
     ]
    }
   ],
   "source": [
    "logreg_score = accuracy_score(y_test, log_y_pred)\n",
    "print(\"Logistic Regression Classifier Accuracy:   {:.3f}\".format(logreg_score))"
   ]
  },
  {
   "cell_type": "code",
   "execution_count": 147,
   "metadata": {},
   "outputs": [
    {
     "name": "stdout",
     "output_type": "stream",
     "text": [
      "             precision    recall  f1-score   support\n",
      "\n",
      "   Negative       0.89      0.84      0.87      6800\n",
      "    Neutral       0.86      0.46      0.60       764\n",
      "   Positive       0.97      0.99      0.98     54903\n",
      "\n",
      "avg / total       0.96      0.96      0.96     62467\n",
      "\n"
     ]
    }
   ],
   "source": [
    "from sklearn.metrics import classification_report\n",
    "print(classification_report(y_test, log_y_pred))"
   ]
  },
  {
   "cell_type": "code",
   "execution_count": 148,
   "metadata": {},
   "outputs": [
    {
     "name": "stdout",
     "output_type": "stream",
     "text": [
      "Training set score: 0.993\n",
      "Test set score: 0.965\n"
     ]
    }
   ],
   "source": [
    "print(\"Training set score: {:.3f}\".format(logreg.score(X_train, y_train)))\n",
    "print(\"Test set score: {:.3f}\".format(logreg.score(X_test, y_test)))"
   ]
  },
  {
   "cell_type": "code",
   "execution_count": 149,
   "metadata": {},
   "outputs": [
    {
     "name": "stdout",
     "output_type": "stream",
     "text": [
      "Confusion matrix:\n",
      "[[ 5724    26  1050]\n",
      " [   36   355   373]\n",
      " [  674    32 54197]]\n",
      "\n"
     ]
    }
   ],
   "source": [
    "log_cfm = confusion_matrix(y_test, log_y_pred)\n",
    "print(\"Confusion matrix:\")\n",
    "print(log_cfm, end='\\n\\n')"
   ]
  },
  {
   "cell_type": "code",
   "execution_count": 150,
   "metadata": {},
   "outputs": [
    {
     "data": {
      "image/png": "[encoded data removed]",
      "text/plain": [
       "<matplotlib.figure.Figure at 0x28bfd506198>"
      ]
     },
     "metadata": {},
     "output_type": "display_data"
    }
   ],
   "source": [
    "plt.imshow(log_cfm, interpolation='nearest',cmap=plt.cm.jet)\n",
    "\n",
    "for i, j in itertools.product(range(log_cfm.shape[0]), range(log_cfm.shape[1])):\n",
    "    plt.text(j, i, log_cfm[i, j],\n",
    "             horizontalalignment=\"center\",\n",
    "             color=\"white\")\n",
    "\n",
    "plt.ylabel('True label (Recall)')\n",
    "plt.xlabel('Predicted label (Precision)')\n",
    "plt.title('Logistic Reg | CountVectorizer | Confusion Matrix')\n",
    "plt.colorbar();"
   ]
  },
  {
   "cell_type": "code",
   "execution_count": 151,
   "metadata": {},
   "outputs": [
    {
     "data": {
      "text/plain": [
       "MultinomialNB(alpha=0.01, class_prior=None, fit_prior=True)"
      ]
     },
     "execution_count": 151,
     "metadata": {},
     "output_type": "execute_result"
    }
   ],
   "source": [
    "#Multinomial Bayes on Training data\n",
    "#CountVectorizer\n",
    "mnb = MultinomialNB(alpha=.01)\n",
    "mnb.fit(X_train, y_train)"
   ]
  },
  {
   "cell_type": "code",
   "execution_count": 152,
   "metadata": {},
   "outputs": [
    {
     "name": "stdout",
     "output_type": "stream",
     "text": [
      "Mean cross-validation accuracy for Multinomial Bayes classifier : 0.880\n"
     ]
    }
   ],
   "source": [
    "#Mean cross-validation for Multinomial Bayes on Training data\n",
    "scores1 = cross_val_score(MultinomialNB(), X_train, y_train, cv=5)\n",
    "print(\"Mean cross-validation accuracy for Multinomial Bayes classifier : {:.3f}\".format(np.mean(scores1)))"
   ]
  },
  {
   "cell_type": "code",
   "execution_count": 153,
   "metadata": {},
   "outputs": [],
   "source": [
    "mnb_y_pred = mnb.predict(X_test)"
   ]
  },
  {
   "cell_type": "code",
   "execution_count": 154,
   "metadata": {},
   "outputs": [
    {
     "name": "stdout",
     "output_type": "stream",
     "text": [
      "Multinomial Bayes Classifier Accuracy:   0.875\n"
     ]
    }
   ],
   "source": [
    "mnb_score = accuracy_score(y_test, mnb_y_pred)\n",
    "print(\"Multinomial Bayes Classifier Accuracy:   {:.3f}\".format(mnb_score))"
   ]
  },
  {
   "cell_type": "code",
   "execution_count": 155,
   "metadata": {},
   "outputs": [
    {
     "name": "stdout",
     "output_type": "stream",
     "text": [
      "             precision    recall  f1-score   support\n",
      "\n",
      "   Negative       0.50      0.59      0.54      6800\n",
      "    Neutral       0.30      0.33      0.31       764\n",
      "   Positive       0.94      0.92      0.93     54903\n",
      "\n",
      "avg / total       0.88      0.87      0.88     62467\n",
      "\n"
     ]
    }
   ],
   "source": [
    "from sklearn.metrics import classification_report\n",
    "print(classification_report(y_test, mnb_y_pred))"
   ]
  },
  {
   "cell_type": "code",
   "execution_count": 156,
   "metadata": {},
   "outputs": [
    {
     "name": "stdout",
     "output_type": "stream",
     "text": [
      "Training set score: 0.902\n",
      "Test set score: 0.875\n"
     ]
    }
   ],
   "source": [
    "print(\"Training set score: {:.3f}\".format(mnb.score(X_train, y_train)))\n",
    "print(\"Test set score: {:.3f}\".format(mnb.score(X_test, y_test)))"
   ]
  },
  {
   "cell_type": "code",
   "execution_count": 157,
   "metadata": {},
   "outputs": [
    {
     "name": "stdout",
     "output_type": "stream",
     "text": [
      "Confusion matrix:\n",
      "[[ 4009   104  2687]\n",
      " [   43   251   470]\n",
      " [ 4040   487 50376]]\n",
      "\n"
     ]
    }
   ],
   "source": [
    "mnb_cfm = confusion_matrix(y_test, mnb_y_pred)\n",
    "print(\"Confusion matrix:\")\n",
    "print(mnb_cfm, end='\\n\\n')"
   ]
  },
  {
   "cell_type": "code",
   "execution_count": 158,
   "metadata": {},
   "outputs": [
    {
     "data": {
      "image/png": "[encoded data removed]",
      "text/plain": [
       "<matplotlib.figure.Figure at 0x28c070ab208>"
      ]
     },
     "metadata": {},
     "output_type": "display_data"
    }
   ],
   "source": [
    "plt.imshow(mnb_cfm, interpolation='nearest',cmap=plt.cm.jet)\n",
    "\n",
    "for i, j in itertools.product(range(mnb_cfm.shape[0]), range(mnb_cfm.shape[1])):\n",
    "    plt.text(j, i, mnb_cfm[i, j],\n",
    "             horizontalalignment=\"center\",\n",
    "             color=\"white\")\n",
    "\n",
    "plt.ylabel('True label (Recall)')\n",
    "plt.xlabel('Predicted label (Precision)')\n",
    "plt.title('Multinomial | CountVectorizer | Confusion Matrix')\n",
    "plt.colorbar();"
   ]
  },
  {
   "cell_type": "code",
   "execution_count": 159,
   "metadata": {},
   "outputs": [
    {
     "data": {
      "text/plain": [
       "LinearSVC(C=1.0, class_weight=None, dual=True, fit_intercept=True,\n",
       "     intercept_scaling=1, loss='squared_hinge', max_iter=1000,\n",
       "     multi_class='ovr', penalty='l2', random_state=None, tol=0.0001,\n",
       "     verbose=0)"
      ]
     },
     "execution_count": 159,
     "metadata": {},
     "output_type": "execute_result"
    }
   ],
   "source": [
    "#Linear SVC\n",
    "from sklearn.svm import LinearSVC\n",
    "classifier_rbf = LinearSVC()\n",
    "classifier_rbf.fit(X_train, y_train)"
   ]
  },
  {
   "cell_type": "code",
   "execution_count": 160,
   "metadata": {},
   "outputs": [
    {
     "name": "stdout",
     "output_type": "stream",
     "text": [
      "Mean cross-validation accuracy for SVC classifier: 0.960\n"
     ]
    }
   ],
   "source": [
    "#Mean cross-validation for SVC on Training data\n",
    "scores2 = cross_val_score(LinearSVC(), X_train, y_train, cv=5)\n",
    "print(\"Mean cross-validation accuracy for SVC classifier: {:.3f}\".format(np.mean(scores2)))"
   ]
  },
  {
   "cell_type": "code",
   "execution_count": 162,
   "metadata": {},
   "outputs": [],
   "source": [
    "prediction_rbf = classifier_rbf.predict(X_test)"
   ]
  },
  {
   "cell_type": "code",
   "execution_count": 163,
   "metadata": {},
   "outputs": [
    {
     "name": "stdout",
     "output_type": "stream",
     "text": [
      "SVC classifier Accuracy:   0.964\n"
     ]
    }
   ],
   "source": [
    "svc_score = accuracy_score(y_test, prediction_rbf)\n",
    "print(\"SVC classifier Accuracy:   {:.3f}\".format(svc_score))"
   ]
  },
  {
   "cell_type": "code",
   "execution_count": 164,
   "metadata": {},
   "outputs": [
    {
     "name": "stdout",
     "output_type": "stream",
     "text": [
      "             precision    recall  f1-score   support\n",
      "\n",
      "   Negative       0.86      0.85      0.86      6800\n",
      "    Neutral       0.76      0.63      0.69       764\n",
      "   Positive       0.98      0.98      0.98     54903\n",
      "\n",
      "avg / total       0.96      0.96      0.96     62467\n",
      "\n"
     ]
    }
   ],
   "source": [
    "from sklearn.metrics import classification_report\n",
    "print(classification_report(y_test, prediction_rbf))"
   ]
  },
  {
   "cell_type": "code",
   "execution_count": 165,
   "metadata": {},
   "outputs": [
    {
     "name": "stdout",
     "output_type": "stream",
     "text": [
      "Training set score: 0.999\n",
      "Test set score: 0.964\n"
     ]
    }
   ],
   "source": [
    "print(\"Training set score: {:.3f}\".format(classifier_rbf.score(X_train, y_train)))\n",
    "print(\"Test set score: {:.3f}\".format(classifier_rbf.score(X_test, y_test)))"
   ]
  },
  {
   "cell_type": "code",
   "execution_count": 166,
   "metadata": {},
   "outputs": [
    {
     "name": "stdout",
     "output_type": "stream",
     "text": [
      "Confusion matrix:\n",
      "[[ 5801    64   935]\n",
      " [   71   478   215]\n",
      " [  883    87 53933]]\n"
     ]
    }
   ],
   "source": [
    "from sklearn.metrics import confusion_matrix\n",
    "classifierSVC= confusion_matrix(y_test, prediction_rbf)\n",
    "print(\"Confusion matrix:\")\n",
    "print(classifierSVC)"
   ]
  },
  {
   "cell_type": "code",
   "execution_count": 167,
   "metadata": {
    "scrolled": true
   },
   "outputs": [
    {
     "data": {
      "image/png": "[encoded data removed]",
      "text/plain": [
       "<matplotlib.figure.Figure at 0x28c0675ceb8>"
      ]
     },
     "metadata": {},
     "output_type": "display_data"
    }
   ],
   "source": [
    "plt.imshow(classifierSVC, interpolation='nearest',cmap=plt.cm.jet)\n",
    "\n",
    "for i, j in itertools.product(range(classifierSVC.shape[0]), range(classifierSVC.shape[1])):\n",
    "    plt.text(j, i, classifierSVC[i, j],\n",
    "             horizontalalignment=\"center\",\n",
    "             color=\"white\")\n",
    "\n",
    "plt.ylabel('True label (Recall)')\n",
    "plt.xlabel('Predicted label (Precision)')\n",
    "plt.title('SVC | CountVectorizer | Confusion Matrix')\n",
    "plt.colorbar();"
   ]
  },
  {
   "cell_type": "code",
   "execution_count": 168,
   "metadata": {},
   "outputs": [
    {
     "data": {
      "text/plain": [
       "RandomForestClassifier(bootstrap=True, class_weight=None, criterion='gini',\n",
       "            max_depth=None, max_features='auto', max_leaf_nodes=None,\n",
       "            min_impurity_decrease=0.0, min_impurity_split=None,\n",
       "            min_samples_leaf=1, min_samples_split=2,\n",
       "            min_weight_fraction_leaf=0.0, n_estimators=10, n_jobs=1,\n",
       "            oob_score=False, random_state=None, verbose=0,\n",
       "            warm_start=False)"
      ]
     },
     "execution_count": 168,
     "metadata": {},
     "output_type": "execute_result"
    }
   ],
   "source": [
    "#RandomForest Classifier\n",
    "from sklearn.ensemble import RandomForestClassifier\n",
    "classifier_rf = RandomForestClassifier()\n",
    "classifier_rf.fit(X_train, y_train)"
   ]
  },
  {
   "cell_type": "code",
   "execution_count": 169,
   "metadata": {},
   "outputs": [
    {
     "name": "stdout",
     "output_type": "stream",
     "text": [
      "Mean cross-validation accuracy for RandomForest classifier: 0.913\n"
     ]
    }
   ],
   "source": [
    "#Mean cross-validation for RandomForest on Training data\n",
    "scores3 = cross_val_score(RandomForestClassifier(), X_train, y_train, cv=5)\n",
    "print(\"Mean cross-validation accuracy for RandomForest classifier: {:.3f}\".format(np.mean(scores3)))"
   ]
  },
  {
   "cell_type": "code",
   "execution_count": 170,
   "metadata": {},
   "outputs": [],
   "source": [
    "rf_y_pred = classifier_rf.predict(X_test)"
   ]
  },
  {
   "cell_type": "code",
   "execution_count": 171,
   "metadata": {},
   "outputs": [
    {
     "name": "stdout",
     "output_type": "stream",
     "text": [
      "RandomForestclassifier Accuracy:   0.916\n"
     ]
    }
   ],
   "source": [
    "rf_score = accuracy_score(y_test, rf_y_pred )\n",
    "print(\"RandomForestclassifier Accuracy:   {:.3f}\".format(rf_score))"
   ]
  },
  {
   "cell_type": "code",
   "execution_count": 172,
   "metadata": {},
   "outputs": [
    {
     "name": "stdout",
     "output_type": "stream",
     "text": [
      "             precision    recall  f1-score   support\n",
      "\n",
      "   Negative       0.86      0.36      0.51      6800\n",
      "    Neutral       0.76      0.40      0.52       764\n",
      "   Positive       0.92      0.99      0.95     54903\n",
      "\n",
      "avg / total       0.91      0.92      0.90     62467\n",
      "\n"
     ]
    }
   ],
   "source": [
    "print(classification_report(y_test, rf_y_pred))"
   ]
  },
  {
   "cell_type": "code",
   "execution_count": 173,
   "metadata": {},
   "outputs": [
    {
     "name": "stdout",
     "output_type": "stream",
     "text": [
      "Training set score: 0.997\n",
      "Test set score: 0.916\n"
     ]
    }
   ],
   "source": [
    "print(\"Training set score: {:.3f}\".format(classifier_rf.score(X_train, y_train)))\n",
    "print(\"Test set score: {:.3f}\".format(classifier_rf.score(X_test, y_test)))"
   ]
  },
  {
   "cell_type": "code",
   "execution_count": 174,
   "metadata": {},
   "outputs": [
    {
     "name": "stdout",
     "output_type": "stream",
     "text": [
      "Confusion matrix:\n",
      "[[ 2440    25  4335]\n",
      " [   15   307   442]\n",
      " [  378    74 54451]]\n",
      "\n"
     ]
    }
   ],
   "source": [
    "rf_cfm = confusion_matrix(y_test, rf_y_pred)\n",
    "print(\"Confusion matrix:\")\n",
    "print(rf_cfm, end='\\n\\n')"
   ]
  },
  {
   "cell_type": "code",
   "execution_count": 175,
   "metadata": {},
   "outputs": [
    {
     "data": {
      "image/png": "[encoded data removed]",
      "text/plain": [
       "<matplotlib.figure.Figure at 0x28bfd5fd6d8>"
      ]
     },
     "metadata": {},
     "output_type": "display_data"
    }
   ],
   "source": [
    "plt.imshow(rf_cfm, interpolation='nearest', cmap=plt.cm.jet)\n",
    "\n",
    "for i, j in itertools.product(range(rf_cfm.shape[0]), range(rf_cfm.shape[1])):\n",
    "    plt.text(j, i, rf_cfm[i, j],\n",
    "             horizontalalignment=\"center\",\n",
    "             color=\"white\")\n",
    "\n",
    "plt.ylabel('True label (Recall)')\n",
    "plt.xlabel('Predicted label (Precision)')\n",
    "plt.title('RandomForest | CountVectorizer | Confusion Matrix')\n",
    "plt.colorbar();"
   ]
  },
  {
   "cell_type": "code",
   "execution_count": 183,
   "metadata": {},
   "outputs": [
    {
     "data": {
      "image/png": "[encoded data removed]",
      "text/plain": [
       "<matplotlib.figure.Figure at 0x28c0239beb8>"
      ]
     },
     "metadata": {},
     "output_type": "display_data"
    }
   ],
   "source": [
    "#Classifiers comparison\n",
    "classifiers = ['Logistic Regression', 'MultinomialNB','SVC','Random Forest']\n",
    "accuracies = [96.5, 87.5, 96.4, 91.6]\n",
    "plt.figure(4, [8,6])\n",
    "plt.bar(range(len(classifiers)), accuracies, align='center', alpha=0.5)\n",
    "plt.xticks(range(len(classifiers)), classifiers, rotation=90)\n",
    "plt.ylabel('Accuracy')\n",
    "plt.title('Comparison of Various Classifiers using CountVectorizer')\n",
    "plt.ylim([60, 100])\n",
    "plt.show()"
   ]
  },
  {
   "cell_type": "code",
   "execution_count": 108,
   "metadata": {},
   "outputs": [
    {
     "name": "stdout",
     "output_type": "stream",
     "text": [
      "Tfidf_X_train:\n",
      "<187401x85402 sparse matrix of type '<class 'numpy.float64'>'\n",
      "\twith 11146922 stored elements in Compressed Sparse Row format>\n",
      "Tfidf_X_test:\n",
      "<62467x85402 sparse matrix of type '<class 'numpy.float64'>'\n",
      "\twith 3687504 stored elements in Compressed Sparse Row format>\n"
     ]
    }
   ],
   "source": [
    "#TfidfVectorizer of x_train and x_test for all the following classifiers\n",
    "from sklearn.feature_extraction.text import TfidfVectorizer\n",
    "tfidf_vectorizer = TfidfVectorizer(max_df=0.95, min_df=2,stop_words='english').fit(x_train)\n",
    "Tfidf_X_train = tfidf_vectorizer.transform(x_train)\n",
    "Tfidf_X_test = tfidf_vectorizer.transform(x_test)\n",
    "print(\"Tfidf_X_train:\\n{}\".format(repr(Tfidf_X_train)))\n",
    "print(\"Tfidf_X_test:\\n{}\".format(repr(Tfidf_X_test)))"
   ]
  },
  {
   "cell_type": "code",
   "execution_count": 109,
   "metadata": {},
   "outputs": [
    {
     "name": "stdout",
     "output_type": "stream",
     "text": [
      "Mean cross-validation accuracy for Logistic Regression classifier : 0.940\n"
     ]
    }
   ],
   "source": [
    "#Logistic Regression\n",
    "#Mean cross-validation for Logistic Regression on Training data\n",
    "tfidf_scores = cross_val_score(LogisticRegression(), Tfidf_X_train, y_train, cv=5)\n",
    "print(\"Mean cross-validation accuracy for Logistic Regression classifier : {:.3f}\".format(np.mean(tfidf_scores)))"
   ]
  },
  {
   "cell_type": "code",
   "execution_count": 177,
   "metadata": {},
   "outputs": [],
   "source": [
    "tfidf_logreg = LogisticRegression(C=1).fit(Tfidf_X_train, y_train)\n",
    "tfidf_log_y_pred = tfidf_logreg.predict(Tfidf_X_test)"
   ]
  },
  {
   "cell_type": "code",
   "execution_count": 178,
   "metadata": {},
   "outputs": [
    {
     "name": "stdout",
     "output_type": "stream",
     "text": [
      "Logistic Regression Classifier Accuracy:   0.944\n"
     ]
    }
   ],
   "source": [
    "tfidf_logreg_score = accuracy_score(y_test, tfidf_log_y_pred)\n",
    "print(\"Logistic Regression Classifier Accuracy:   {:.3f}\".format(tfidf_logreg_score))"
   ]
  },
  {
   "cell_type": "code",
   "execution_count": 179,
   "metadata": {},
   "outputs": [
    {
     "name": "stdout",
     "output_type": "stream",
     "text": [
      "             precision    recall  f1-score   support\n",
      "\n",
      "   Negative       0.93      0.63      0.75      6800\n",
      "    Neutral       0.83      0.09      0.17       764\n",
      "   Positive       0.95      0.99      0.97     54903\n",
      "\n",
      "avg / total       0.94      0.94      0.94     62467\n",
      "\n"
     ]
    }
   ],
   "source": [
    "from sklearn.metrics import classification_report\n",
    "print(classification_report(y_test, tfidf_log_y_pred))"
   ]
  },
  {
   "cell_type": "code",
   "execution_count": 180,
   "metadata": {},
   "outputs": [
    {
     "name": "stdout",
     "output_type": "stream",
     "text": [
      "Confusion matrix:\n",
      "[[ 4292     7  2501]\n",
      " [   21    70   673]\n",
      " [  289     7 54607]]\n",
      "\n"
     ]
    }
   ],
   "source": [
    "tfidf_log_cfm = confusion_matrix(y_test, tfidf_log_y_pred)\n",
    "print(\"Confusion matrix:\")\n",
    "print(tfidf_log_cfm, end='\\n\\n')"
   ]
  },
  {
   "cell_type": "code",
   "execution_count": 181,
   "metadata": {},
   "outputs": [
    {
     "data": {
      "image/png": "[encoded data removed]",
      "text/plain": [
       "<matplotlib.figure.Figure at 0x28bfd464048>"
      ]
     },
     "metadata": {},
     "output_type": "display_data"
    }
   ],
   "source": [
    "plt.imshow(tfidf_log_cfm, interpolation='nearest', cmap=plt.cm.jet)\n",
    "\n",
    "for i, j in itertools.product(range(tfidf_log_cfm.shape[0]), range(tfidf_log_cfm.shape[1])):\n",
    "    plt.text(j, i, tfidf_log_cfm[i, j],\n",
    "             horizontalalignment=\"center\",\n",
    "             color=\"white\")\n",
    "\n",
    "plt.ylabel('True label (Recall)')\n",
    "plt.xlabel('Predicted label (Precision)')\n",
    "plt.title('Logistic Reg | TfidfVectorizer | Confusion Matrix')\n",
    "plt.colorbar();"
   ]
  },
  {
   "cell_type": "code",
   "execution_count": 115,
   "metadata": {},
   "outputs": [
    {
     "data": {
      "text/plain": [
       "MultinomialNB(alpha=0.01, class_prior=None, fit_prior=True)"
      ]
     },
     "execution_count": 115,
     "metadata": {},
     "output_type": "execute_result"
    }
   ],
   "source": [
    "# Multinomial Bayes \n",
    "tfidf_mnb = MultinomialNB(alpha=.01)\n",
    "tfidf_mnb.fit(Tfidf_X_train, y_train)"
   ]
  },
  {
   "cell_type": "code",
   "execution_count": 116,
   "metadata": {},
   "outputs": [
    {
     "name": "stdout",
     "output_type": "stream",
     "text": [
      "Mean cross-validation accuracy for Multinomial Bayes classifier : 0.880\n"
     ]
    }
   ],
   "source": [
    "#Mean cross-validation for Multinomial Bayes on Training data\n",
    "tfidf_scores1 = cross_val_score(MultinomialNB(), Tfidf_X_train, y_train, cv=5)\n",
    "print(\"Mean cross-validation accuracy for Multinomial Bayes classifier : {:.3f}\".format(np.mean(tfidf_scores1)))"
   ]
  },
  {
   "cell_type": "code",
   "execution_count": 117,
   "metadata": {},
   "outputs": [],
   "source": [
    "tfidf_mnb_y_pred = tfidf_mnb.predict(Tfidf_X_test)"
   ]
  },
  {
   "cell_type": "code",
   "execution_count": 118,
   "metadata": {},
   "outputs": [
    {
     "name": "stdout",
     "output_type": "stream",
     "text": [
      "Multinomial Bayes Classifier Accuracy:   0.892\n"
     ]
    }
   ],
   "source": [
    "tfidf_mnb_score = accuracy_score(y_test, tfidf_mnb_y_pred)\n",
    "print(\"Multinomial Bayes Classifier Accuracy:   {:.3f}\".format(tfidf_mnb_score))"
   ]
  },
  {
   "cell_type": "code",
   "execution_count": 119,
   "metadata": {},
   "outputs": [
    {
     "name": "stdout",
     "output_type": "stream",
     "text": [
      "             precision    recall  f1-score   support\n",
      "\n",
      "   Negative       0.84      0.14      0.23      6800\n",
      "    Neutral       0.65      0.13      0.22       764\n",
      "   Positive       0.89      1.00      0.94     54903\n",
      "\n",
      "avg / total       0.88      0.89      0.86     62467\n",
      "\n"
     ]
    }
   ],
   "source": [
    "from sklearn.metrics import classification_report\n",
    "print(classification_report(y_test, tfidf_mnb_y_pred))"
   ]
  },
  {
   "cell_type": "code",
   "execution_count": 120,
   "metadata": {},
   "outputs": [
    {
     "name": "stdout",
     "output_type": "stream",
     "text": [
      "Confusion matrix:\n",
      "[[  927     9  5864]\n",
      " [    3   100   661]\n",
      " [  176    44 54683]]\n",
      "\n"
     ]
    }
   ],
   "source": [
    "tfidf_mnb_cfm = confusion_matrix(y_test, tfidf_mnb_y_pred)\n",
    "print(\"Confusion matrix:\")\n",
    "print(tfidf_mnb_cfm, end='\\n\\n')"
   ]
  },
  {
   "cell_type": "code",
   "execution_count": 121,
   "metadata": {},
   "outputs": [
    {
     "data": {
      "image/png": "[encoded data removed]",
      "text/plain": [
       "<matplotlib.figure.Figure at 0x28bfdbe21d0>"
      ]
     },
     "metadata": {},
     "output_type": "display_data"
    }
   ],
   "source": [
    "plt.imshow(tfidf_mnb_cfm, interpolation='nearest', cmap=plt.cm.jet)\n",
    "\n",
    "for i, j in itertools.product(range(tfidf_mnb_cfm.shape[0]), range(tfidf_mnb_cfm.shape[1])):\n",
    "    plt.text(j, i, tfidf_mnb_cfm[i, j],\n",
    "             horizontalalignment=\"center\",\n",
    "             color=\"white\")\n",
    "\n",
    "plt.ylabel('True label (Recall)')\n",
    "plt.xlabel('Predicted label (Precision)')\n",
    "plt.title('Multinomial | TfidfVectorizer | Confusion Matrix')\n",
    "plt.colorbar();"
   ]
  },
  {
   "cell_type": "code",
   "execution_count": 122,
   "metadata": {},
   "outputs": [
    {
     "data": {
      "text/plain": [
       "LinearSVC(C=1.0, class_weight=None, dual=True, fit_intercept=True,\n",
       "     intercept_scaling=1, loss='squared_hinge', max_iter=1000,\n",
       "     multi_class='ovr', penalty='l2', random_state=None, tol=0.0001,\n",
       "     verbose=0)"
      ]
     },
     "execution_count": 122,
     "metadata": {},
     "output_type": "execute_result"
    }
   ],
   "source": [
    "#Linear SVC\n",
    "from sklearn.svm import LinearSVC\n",
    "tfidf_classifier_rbf = LinearSVC()\n",
    "tfidf_classifier_rbf.fit(Tfidf_X_train, y_train)"
   ]
  },
  {
   "cell_type": "code",
   "execution_count": 123,
   "metadata": {},
   "outputs": [
    {
     "name": "stdout",
     "output_type": "stream",
     "text": [
      "Mean cross-validation accuracy for SVC classifier: 0.960\n"
     ]
    }
   ],
   "source": [
    "#Mean cross-validation for SVC on Training data\n",
    "tfidf_scores2 = cross_val_score(LinearSVC(), Tfidf_X_train, y_train, cv=5)\n",
    "print(\"Mean cross-validation accuracy for SVC classifier: {:.3f}\".format(np.mean(tfidf_scores2)))"
   ]
  },
  {
   "cell_type": "code",
   "execution_count": 126,
   "metadata": {},
   "outputs": [],
   "source": [
    "tfidf_prediction_rbf = tfidf_classifier_rbf.predict(Tfidf_X_test)"
   ]
  },
  {
   "cell_type": "code",
   "execution_count": 127,
   "metadata": {},
   "outputs": [
    {
     "name": "stdout",
     "output_type": "stream",
     "text": [
      "SVC classifier Accuracy:   0.962\n"
     ]
    }
   ],
   "source": [
    "tfidf_svc_score = accuracy_score(y_test, tfidf_prediction_rbf)\n",
    "print(\"SVC classifier Accuracy:   {:.3f}\".format(tfidf_svc_score))"
   ]
  },
  {
   "cell_type": "code",
   "execution_count": 128,
   "metadata": {},
   "outputs": [
    {
     "name": "stdout",
     "output_type": "stream",
     "text": [
      "             precision    recall  f1-score   support\n",
      "\n",
      "   Negative       0.89      0.81      0.85      6800\n",
      "    Neutral       0.85      0.39      0.53       764\n",
      "   Positive       0.97      0.99      0.98     54903\n",
      "\n",
      "avg / total       0.96      0.96      0.96     62467\n",
      "\n"
     ]
    }
   ],
   "source": [
    "from sklearn.metrics import classification_report\n",
    "print(classification_report(y_test, tfidf_prediction_rbf))"
   ]
  },
  {
   "cell_type": "code",
   "execution_count": 129,
   "metadata": {},
   "outputs": [
    {
     "name": "stdout",
     "output_type": "stream",
     "text": [
      "Confusion matrix:\n",
      "[[ 5511    22  1267]\n",
      " [   70   296   398]\n",
      " [  598    31 54274]]\n"
     ]
    }
   ],
   "source": [
    "from sklearn.metrics import confusion_matrix\n",
    "Tfidf_classifierSVC= confusion_matrix(y_test, tfidf_prediction_rbf)\n",
    "print(\"Confusion matrix:\")\n",
    "print(Tfidf_classifierSVC)"
   ]
  },
  {
   "cell_type": "code",
   "execution_count": 130,
   "metadata": {},
   "outputs": [
    {
     "data": {
      "image/png": "[encoded data removed]",
      "text/plain": [
       "<matplotlib.figure.Figure at 0x28c045512b0>"
      ]
     },
     "metadata": {},
     "output_type": "display_data"
    }
   ],
   "source": [
    "plt.imshow(Tfidf_classifierSVC, interpolation='nearest', cmap=plt.cm.jet)\n",
    "\n",
    "for i, j in itertools.product(range(Tfidf_classifierSVC.shape[0]), range(Tfidf_classifierSVC.shape[1])):\n",
    "    plt.text(j, i, Tfidf_classifierSVC[i, j],\n",
    "             horizontalalignment=\"center\",\n",
    "             color=\"white\")\n",
    "\n",
    "plt.ylabel('True label (Recall)')\n",
    "plt.xlabel('Predicted label (Precision)')\n",
    "plt.title('SVC | TfidfVectorizer | Confusion Matrix')\n",
    "plt.colorbar();"
   ]
  },
  {
   "cell_type": "code",
   "execution_count": 131,
   "metadata": {},
   "outputs": [
    {
     "data": {
      "text/plain": [
       "RandomForestClassifier(bootstrap=True, class_weight=None, criterion='gini',\n",
       "            max_depth=None, max_features='auto', max_leaf_nodes=None,\n",
       "            min_impurity_decrease=0.0, min_impurity_split=None,\n",
       "            min_samples_leaf=1, min_samples_split=2,\n",
       "            min_weight_fraction_leaf=0.0, n_estimators=10, n_jobs=1,\n",
       "            oob_score=False, random_state=None, verbose=0,\n",
       "            warm_start=False)"
      ]
     },
     "execution_count": 131,
     "metadata": {},
     "output_type": "execute_result"
    }
   ],
   "source": [
    "#RandomForest Classifier\n",
    "from sklearn.ensemble import RandomForestClassifier\n",
    "tfidf_classifier_rf = RandomForestClassifier()\n",
    "tfidf_classifier_rf.fit(Tfidf_X_train, y_train)"
   ]
  },
  {
   "cell_type": "code",
   "execution_count": 132,
   "metadata": {},
   "outputs": [
    {
     "name": "stdout",
     "output_type": "stream",
     "text": [
      "Mean cross-validation accuracy for RandomForest classifier: 0.913\n"
     ]
    }
   ],
   "source": [
    "#Mean cross-validation for RandomForest on Training data\n",
    "tfidf_scores3 = cross_val_score(RandomForestClassifier(), Tfidf_X_train, y_train, cv=5)\n",
    "print(\"Mean cross-validation accuracy for RandomForest classifier: {:.3f}\".format(np.mean(tfidf_scores3)))"
   ]
  },
  {
   "cell_type": "code",
   "execution_count": 134,
   "metadata": {},
   "outputs": [],
   "source": [
    "tfidf_rf_y_pred = tfidf_classifier_rf.predict(Tfidf_X_test)"
   ]
  },
  {
   "cell_type": "code",
   "execution_count": 135,
   "metadata": {},
   "outputs": [
    {
     "name": "stdout",
     "output_type": "stream",
     "text": [
      "RandomForestclassifier Accuracy:   0.916\n"
     ]
    }
   ],
   "source": [
    "tfidf_rf_score = accuracy_score(y_test, tfidf_rf_y_pred)\n",
    "print(\"RandomForestclassifier Accuracy:   {:.3f}\".format(tfidf_rf_score))"
   ]
  },
  {
   "cell_type": "code",
   "execution_count": 136,
   "metadata": {},
   "outputs": [
    {
     "name": "stdout",
     "output_type": "stream",
     "text": [
      "             precision    recall  f1-score   support\n",
      "\n",
      "   Negative       0.88      0.35      0.50      6800\n",
      "    Neutral       0.82      0.34      0.48       764\n",
      "   Positive       0.92      0.99      0.95     54903\n",
      "\n",
      "avg / total       0.91      0.92      0.90     62467\n",
      "\n"
     ]
    }
   ],
   "source": [
    "from sklearn.metrics import classification_report\n",
    "print(classification_report(y_test, tfidf_rf_y_pred))"
   ]
  },
  {
   "cell_type": "code",
   "execution_count": 137,
   "metadata": {},
   "outputs": [
    {
     "name": "stdout",
     "output_type": "stream",
     "text": [
      "Confusion matrix:\n",
      "[[ 2365    16  4419]\n",
      " [   23   261   480]\n",
      " [  288    41 54574]]\n",
      "\n"
     ]
    }
   ],
   "source": [
    "tfidf_rf_cfm = confusion_matrix(y_test, tfidf_rf_y_pred)\n",
    "print(\"Confusion matrix:\")\n",
    "print(tfidf_rf_cfm, end='\\n\\n')"
   ]
  },
  {
   "cell_type": "code",
   "execution_count": 138,
   "metadata": {},
   "outputs": [
    {
     "data": {
      "image/png": "[encoded data removed]",
      "text/plain": [
       "<matplotlib.figure.Figure at 0x28c08a19f28>"
      ]
     },
     "metadata": {},
     "output_type": "display_data"
    }
   ],
   "source": [
    "plt.imshow(tfidf_rf_cfm, interpolation='nearest', cmap=plt.cm.jet)\n",
    "\n",
    "for i, j in itertools.product(range(tfidf_rf_cfm.shape[0]), range(tfidf_rf_cfm.shape[1])):\n",
    "    plt.text(j, i, tfidf_rf_cfm[i, j],\n",
    "             horizontalalignment=\"center\",\n",
    "             color=\"white\")\n",
    "\n",
    "plt.ylabel('True label (Recall)')\n",
    "plt.xlabel('Predicted label (Precision)')\n",
    "plt.title('RandomForest | TfidfVectorizer | Confusion Matrix')\n",
    "plt.colorbar();"
   ]
  },
  {
   "cell_type": "code",
   "execution_count": 182,
   "metadata": {},
   "outputs": [
    {
     "data": {
      "image/png": "[encoded data removed]",
      "text/plain": [
       "<matplotlib.figure.Figure at 0x28c0534bf60>"
      ]
     },
     "metadata": {},
     "output_type": "display_data"
    }
   ],
   "source": [
    "#Classifiers comparison using TfidfVectorizer\n",
    "Tfidf_classifiers = ['Logistic Regression', 'MultinomialNB','SVC','Random Forest']\n",
    "accuracies = [94.4, 89.2, 96.2, 91.6]\n",
    "plt.figure(4, [8,6])\n",
    "plt.bar(range(len(Tfidf_classifiers)), accuracies, align='center', alpha=0.5)\n",
    "plt.xticks(range(len(Tfidf_classifiers)), Tfidf_classifiers, rotation=90)\n",
    "plt.ylabel('Accuracy')\n",
    "plt.title('Comparison of Various Classifiers using TfidfVectorizer')\n",
    "plt.ylim([60, 100])\n",
    "plt.show()"
   ]
  },
  {
   "cell_type": "code",
   "execution_count": null,
   "metadata": {
    "collapsed": true
   },
   "outputs": [],
   "source": []
  }
 ],
 "metadata": {
  "kernelspec": {
   "display_name": "Python 3",
   "language": "python",
   "name": "python3"
  },
  "language_info": {
   "codemirror_mode": {
    "name": "ipython",
    "version": 3
   },
   "file_extension": ".py",
   "mimetype": "text/x-python",
   "name": "python",
   "nbconvert_exporter": "python",
   "pygments_lexer": "ipython3",
   "version": "3.6.4"
  }
 },
 "nbformat": 4,
 "nbformat_minor": 2
}
